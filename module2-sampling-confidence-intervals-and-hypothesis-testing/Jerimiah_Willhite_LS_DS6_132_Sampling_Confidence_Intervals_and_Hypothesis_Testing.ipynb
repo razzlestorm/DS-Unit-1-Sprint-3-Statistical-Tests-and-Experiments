{
  "nbformat": 4,
  "nbformat_minor": 0,
  "metadata": {
    "colab": {
      "name": "Jerimiah Willhite - LS_DS6_132_Sampling_Confidence_Intervals_and_Hypothesis_Testing.ipynb",
      "version": "0.3.2",
      "provenance": [],
      "collapsed_sections": [],
      "include_colab_link": true
    },
    "kernelspec": {
      "name": "python3",
      "display_name": "Python 3"
    }
  },
  "cells": [
    {
      "cell_type": "markdown",
      "metadata": {
        "id": "view-in-github",
        "colab_type": "text"
      },
      "source": [
        "<a href=\"https://colab.research.google.com/github/razzlestorm/DS-Unit-1-Sprint-3-Statistical-Tests-and-Experiments/blob/master/module2-sampling-confidence-intervals-and-hypothesis-testing/Jerimiah_Willhite_LS_DS6_132_Sampling_Confidence_Intervals_and_Hypothesis_Testing.ipynb\" target=\"_parent\"><img src=\"https://colab.research.google.com/assets/colab-badge.svg\" alt=\"Open In Colab\"/></a>"
      ]
    },
    {
      "cell_type": "markdown",
      "metadata": {
        "id": "838Dmw1kM2LK",
        "colab_type": "text"
      },
      "source": [
        "# Lambda School Data Science Module 132\n",
        "## Sampling, Confidence Intervals, and Hypothesis Testing"
      ]
    },
    {
      "cell_type": "markdown",
      "metadata": {
        "id": "dbcPKIo5M6Ny",
        "colab_type": "text"
      },
      "source": [
        "## Prepare - examine other available hypothesis tests\n",
        "\n",
        "If you had to pick a single hypothesis test in your toolbox, t-test would probably be the best choice - but the good news is you don't have to pick just one! Here's some of the others to be aware of:"
      ]
    },
    {
      "cell_type": "code",
      "metadata": {
        "id": "tlBel8j9M6tB",
        "colab_type": "code",
        "outputId": "9f5ab668-2e6d-4423-c7d3-00adc1cc293e",
        "colab": {
          "base_uri": "https://localhost:8080/",
          "height": 199
        }
      },
      "source": [
        "import numpy as np\n",
        "from scipy.stats import chisquare  # One-way chi square test\n",
        "\n",
        "# Chi square can take any crosstab/table and test the independence of rows/cols\n",
        "# The null hypothesis is that the rows/cols are independent -> low chi square\n",
        "# The alternative is that there is a dependence -> high chi square\n",
        "# Be aware! Chi square does *not* tell you direction/causation\n",
        "\n",
        "ind_obs = np.array([[1, 1], [2, 2]]).T\n",
        "print(ind_obs)\n",
        "print(chisquare(ind_obs, axis=None))\n",
        "\n",
        "dep_obs = np.array([[16, 18, 16, 14, 12, 12], [32, 24, 16, 28, 20, 24]]).T\n",
        "print(dep_obs)\n",
        "print(chisquare(dep_obs, axis=None))"
      ],
      "execution_count": 0,
      "outputs": [
        {
          "output_type": "stream",
          "text": [
            "[[1 2]\n",
            " [1 2]]\n",
            "Power_divergenceResult(statistic=0.6666666666666666, pvalue=0.8810148425137847)\n",
            "[[16 32]\n",
            " [18 24]\n",
            " [16 16]\n",
            " [14 28]\n",
            " [12 20]\n",
            " [12 24]]\n",
            "Power_divergenceResult(statistic=23.31034482758621, pvalue=0.015975692534127565)\n"
          ],
          "name": "stdout"
        }
      ]
    },
    {
      "cell_type": "code",
      "metadata": {
        "id": "nN0BdNiDPxbk",
        "colab_type": "code",
        "outputId": "d149e833-5904-42ae-9b64-b3e5b71799f8",
        "colab": {
          "base_uri": "https://localhost:8080/",
          "height": 34
        }
      },
      "source": [
        "# Distribution tests:\n",
        "# We often assume that something is normal, but it can be important to *check*\n",
        "\n",
        "# For example, later on with predictive modeling, a typical assumption is that\n",
        "# residuals (prediction errors) are normal - checking is a good diagnostic\n",
        "\n",
        "from scipy.stats import normaltest\n",
        "# Poisson models arrival times and is related to the binomial (coinflip)\n",
        "sample = np.random.poisson(5, 1000)\n",
        "print(normaltest(sample))  # Pretty clearly not normal"
      ],
      "execution_count": 0,
      "outputs": [
        {
          "output_type": "stream",
          "text": [
            "NormaltestResult(statistic=22.273646023922907, pvalue=1.4565963588062096e-05)\n"
          ],
          "name": "stdout"
        }
      ]
    },
    {
      "cell_type": "code",
      "metadata": {
        "id": "P5t0WhkDReFO",
        "colab_type": "code",
        "outputId": "77a770b3-e844-4477-d373-fbc8ac374e20",
        "colab": {
          "base_uri": "https://localhost:8080/",
          "height": 50
        }
      },
      "source": [
        "# Kruskal-Wallis H-test - compare the median rank between 2+ groups\n",
        "# Can be applied to ranking decisions/outcomes/recommendations\n",
        "# The underlying math comes from chi-square distribution, and is best for n>5\n",
        "from scipy.stats import kruskal\n",
        "\n",
        "x1 = [1, 3, 5, 7, 9]\n",
        "y1 = [2, 4, 6, 8, 10]\n",
        "print(kruskal(x1, y1))  # x1 is a little better, but not \"significantly\" so\n",
        "\n",
        "x2 = [1, 1, 1]\n",
        "y2 = [2, 2, 2]\n",
        "z = [2, 2]  # Hey, a third group, and of different size!\n",
        "print(kruskal(x2, y2, z))  # x clearly dominates"
      ],
      "execution_count": 0,
      "outputs": [
        {
          "output_type": "stream",
          "text": [
            "KruskalResult(statistic=0.2727272727272734, pvalue=0.6015081344405895)\n",
            "KruskalResult(statistic=7.0, pvalue=0.0301973834223185)\n"
          ],
          "name": "stdout"
        }
      ]
    },
    {
      "cell_type": "markdown",
      "metadata": {
        "id": "7pT3IP36Rh0b",
        "colab_type": "text"
      },
      "source": [
        "And there's many more! `scipy.stats` is fairly comprehensive, though there are even more available if you delve into the extended world of statistics packages. As tests get increasingly obscure and specialized, the importance of knowing them by heart becomes small - but being able to look them up and figure them out when they *are* relevant is still important."
      ]
    },
    {
      "cell_type": "markdown",
      "metadata": {
        "id": "3JqroCQYQqhy",
        "colab_type": "text"
      },
      "source": [
        "## T-test Assumptions"
      ]
    },
    {
      "cell_type": "code",
      "metadata": {
        "id": "sqy2hEFRZnvI",
        "colab_type": "code",
        "colab": {}
      },
      "source": [
        "from scipy.stats import ttest_ind\n",
        "\n",
        "?ttest_ind"
      ],
      "execution_count": 0,
      "outputs": []
    },
    {
      "cell_type": "markdown",
      "metadata": {
        "id": "xI-PcK5sZ1A9",
        "colab_type": "text"
      },
      "source": [
        "<https://statistics.laerd.com/statistical-guides/independent-t-test-statistical-guide.php>\n",
        "\n",
        "- Independence of means\n",
        "\n",
        "Are the means of our voting data independent (do not affect the outcome of one another)?\n",
        "  \n",
        "The best way to increase thel likelihood of our means being independent is to randomly sample (which we did not do).\n",
        "\n",
        "- \"Homogeneity\" of Variance? \n",
        "\n",
        "Is the magnitude of the variance between the two roughly the same?\n",
        "\n",
        "I think we're OK on this one for the voting data, although it probably could be better, one party was larger than the other.\n",
        "\n",
        "If we suspect this to be a problem then we can use Welch's T-test"
      ]
    },
    {
      "cell_type": "markdown",
      "metadata": {
        "id": "tjgoHHwGayoC",
        "colab_type": "text"
      },
      "source": [
        "- \"Dependent Variable\" (sample means) are Distributed Normally\n",
        "\n",
        "<https://stats.stackexchange.com/questions/9573/t-test-for-non-normal-when-n50>\n",
        "\n",
        "Lots of statistical tests depend on normal distributions. We can test for normality using Scipy as was shown above.\n",
        "\n",
        "This assumption is often assumed even if the assumption is a weak one. If you strongly suspect that things are not normally distributed, you can transform your data to get it looking more normal and then run your test. This problem typically goes away for large sample sizes (yay Central Limit Theorem) and is often why you don't hear it brought up. People declare the assumption to be satisfied either way. \n",
        "\n"
      ]
    },
    {
      "cell_type": "markdown",
      "metadata": {
        "id": "bvvPV-RJN2vA",
        "colab_type": "text"
      },
      "source": [
        "## Central Limit Theorem\n",
        "\n"
      ]
    },
    {
      "cell_type": "code",
      "metadata": {
        "id": "FBLoOF8qOJeJ",
        "colab_type": "code",
        "outputId": "45d66f4a-a759-46db-e33d-58cb5d259728",
        "colab": {
          "base_uri": "https://localhost:8080/",
          "height": 73
        }
      },
      "source": [
        "import numpy as np\n",
        "import matplotlib.pyplot as plt\n",
        "import pandas as pd\n",
        "\n",
        "N = 3000\n",
        "\n",
        "sample_means = []\n",
        "for x in range(0,N):\n",
        "  coinflips = np.random.binomial(n=1, p=.5, size=100)\n",
        "  one_sample = coinflips\n",
        "  sample_means.append(coinflips.mean())\n",
        "\n",
        "print(len(sample_means))\n",
        "print(sample_means)"
      ],
      "execution_count": 0,
      "outputs": [
        {
          "output_type": "stream",
          "text": [
            "3000\n",
            "[0.52, 0.56, 0.47, 0.53, 0.52, 0.52, 0.52, 0.55, 0.49, 0.64, 0.41, 0.38, 0.5, 0.54, 0.48, 0.47, 0.52, 0.49, 0.58, 0.45, 0.52, 0.51, 0.5, 0.56, 0.46, 0.57, 0.51, 0.44, 0.5, 0.42, 0.53, 0.53, 0.45, 0.5, 0.56, 0.45, 0.49, 0.46, 0.49, 0.49, 0.43, 0.57, 0.57, 0.51, 0.51, 0.41, 0.39, 0.46, 0.49, 0.51, 0.52, 0.5, 0.5, 0.49, 0.64, 0.48, 0.59, 0.49, 0.48, 0.5, 0.54, 0.48, 0.56, 0.48, 0.54, 0.48, 0.52, 0.42, 0.42, 0.59, 0.47, 0.48, 0.42, 0.51, 0.52, 0.51, 0.45, 0.59, 0.48, 0.49, 0.5, 0.49, 0.49, 0.48, 0.46, 0.54, 0.5, 0.48, 0.57, 0.51, 0.5, 0.5, 0.57, 0.49, 0.52, 0.4, 0.52, 0.49, 0.48, 0.56, 0.39, 0.49, 0.52, 0.46, 0.41, 0.48, 0.47, 0.54, 0.54, 0.51, 0.44, 0.47, 0.5, 0.53, 0.48, 0.51, 0.43, 0.44, 0.56, 0.56, 0.51, 0.51, 0.57, 0.48, 0.52, 0.46, 0.48, 0.56, 0.54, 0.49, 0.5, 0.48, 0.51, 0.46, 0.48, 0.49, 0.57, 0.5, 0.41, 0.5, 0.48, 0.54, 0.64, 0.46, 0.44, 0.48, 0.57, 0.48, 0.43, 0.53, 0.52, 0.45, 0.41, 0.42, 0.42, 0.57, 0.57, 0.47, 0.46, 0.53, 0.57, 0.48, 0.53, 0.39, 0.51, 0.47, 0.48, 0.49, 0.49, 0.51, 0.52, 0.5, 0.42, 0.47, 0.54, 0.55, 0.46, 0.54, 0.55, 0.46, 0.58, 0.55, 0.43, 0.45, 0.5, 0.47, 0.48, 0.47, 0.53, 0.48, 0.58, 0.51, 0.49, 0.48, 0.52, 0.53, 0.41, 0.52, 0.51, 0.52, 0.43, 0.49, 0.58, 0.45, 0.54, 0.49, 0.55, 0.44, 0.56, 0.51, 0.52, 0.51, 0.58, 0.52, 0.51, 0.54, 0.52, 0.52, 0.57, 0.43, 0.49, 0.52, 0.48, 0.56, 0.51, 0.37, 0.44, 0.52, 0.53, 0.5, 0.48, 0.56, 0.52, 0.5, 0.56, 0.55, 0.44, 0.65, 0.47, 0.41, 0.47, 0.56, 0.46, 0.5, 0.53, 0.45, 0.45, 0.5, 0.46, 0.54, 0.55, 0.51, 0.51, 0.52, 0.5, 0.56, 0.52, 0.45, 0.41, 0.4, 0.45, 0.44, 0.54, 0.45, 0.42, 0.5, 0.55, 0.58, 0.51, 0.57, 0.5, 0.45, 0.56, 0.44, 0.46, 0.48, 0.56, 0.48, 0.52, 0.48, 0.53, 0.51, 0.54, 0.51, 0.54, 0.51, 0.57, 0.52, 0.49, 0.47, 0.39, 0.49, 0.49, 0.49, 0.52, 0.56, 0.48, 0.47, 0.49, 0.54, 0.46, 0.47, 0.52, 0.5, 0.57, 0.54, 0.53, 0.45, 0.53, 0.41, 0.44, 0.42, 0.54, 0.48, 0.44, 0.61, 0.54, 0.52, 0.51, 0.5, 0.54, 0.5, 0.56, 0.54, 0.5, 0.48, 0.49, 0.45, 0.5, 0.56, 0.49, 0.55, 0.44, 0.49, 0.52, 0.6, 0.39, 0.5, 0.55, 0.55, 0.56, 0.59, 0.53, 0.48, 0.5, 0.57, 0.46, 0.57, 0.51, 0.5, 0.46, 0.55, 0.55, 0.5, 0.45, 0.5, 0.5, 0.46, 0.53, 0.46, 0.5, 0.48, 0.56, 0.56, 0.49, 0.52, 0.49, 0.5, 0.52, 0.52, 0.57, 0.47, 0.45, 0.45, 0.46, 0.5, 0.52, 0.5, 0.58, 0.47, 0.48, 0.47, 0.45, 0.54, 0.48, 0.48, 0.53, 0.51, 0.41, 0.55, 0.47, 0.46, 0.53, 0.47, 0.47, 0.63, 0.49, 0.46, 0.48, 0.48, 0.54, 0.49, 0.49, 0.52, 0.53, 0.46, 0.53, 0.51, 0.43, 0.49, 0.49, 0.54, 0.47, 0.43, 0.48, 0.47, 0.44, 0.52, 0.49, 0.54, 0.47, 0.49, 0.5, 0.56, 0.42, 0.54, 0.5, 0.53, 0.48, 0.53, 0.58, 0.54, 0.57, 0.44, 0.52, 0.53, 0.49, 0.51, 0.53, 0.52, 0.44, 0.54, 0.48, 0.52, 0.63, 0.49, 0.48, 0.55, 0.53, 0.54, 0.54, 0.51, 0.48, 0.47, 0.48, 0.52, 0.42, 0.5, 0.43, 0.48, 0.41, 0.42, 0.42, 0.46, 0.57, 0.53, 0.5, 0.43, 0.44, 0.52, 0.46, 0.53, 0.49, 0.52, 0.53, 0.46, 0.47, 0.46, 0.45, 0.44, 0.5, 0.48, 0.58, 0.58, 0.48, 0.47, 0.42, 0.47, 0.56, 0.45, 0.47, 0.46, 0.49, 0.49, 0.51, 0.54, 0.51, 0.46, 0.46, 0.57, 0.53, 0.56, 0.51, 0.51, 0.5, 0.5, 0.58, 0.5, 0.51, 0.42, 0.48, 0.46, 0.46, 0.45, 0.52, 0.57, 0.45, 0.45, 0.46, 0.4, 0.46, 0.47, 0.48, 0.43, 0.55, 0.54, 0.46, 0.53, 0.5, 0.48, 0.53, 0.48, 0.52, 0.54, 0.57, 0.49, 0.52, 0.59, 0.5, 0.54, 0.45, 0.45, 0.44, 0.45, 0.47, 0.56, 0.56, 0.58, 0.53, 0.57, 0.47, 0.54, 0.47, 0.55, 0.52, 0.48, 0.56, 0.45, 0.48, 0.48, 0.54, 0.58, 0.57, 0.52, 0.52, 0.56, 0.53, 0.44, 0.48, 0.52, 0.48, 0.53, 0.46, 0.48, 0.56, 0.46, 0.51, 0.58, 0.41, 0.43, 0.52, 0.6, 0.49, 0.56, 0.5, 0.46, 0.56, 0.53, 0.53, 0.53, 0.46, 0.57, 0.43, 0.57, 0.54, 0.5, 0.5, 0.57, 0.46, 0.56, 0.42, 0.61, 0.43, 0.45, 0.46, 0.57, 0.46, 0.5, 0.4, 0.49, 0.49, 0.45, 0.54, 0.52, 0.42, 0.52, 0.41, 0.44, 0.56, 0.54, 0.49, 0.48, 0.53, 0.52, 0.54, 0.57, 0.47, 0.43, 0.49, 0.5, 0.57, 0.41, 0.55, 0.4, 0.45, 0.49, 0.63, 0.49, 0.46, 0.49, 0.42, 0.61, 0.47, 0.48, 0.43, 0.48, 0.48, 0.5, 0.49, 0.52, 0.65, 0.53, 0.61, 0.44, 0.48, 0.44, 0.53, 0.52, 0.48, 0.57, 0.6, 0.47, 0.47, 0.49, 0.41, 0.52, 0.52, 0.51, 0.5, 0.48, 0.52, 0.51, 0.51, 0.57, 0.48, 0.45, 0.47, 0.61, 0.5, 0.51, 0.49, 0.53, 0.36, 0.53, 0.45, 0.54, 0.42, 0.55, 0.45, 0.43, 0.48, 0.49, 0.44, 0.49, 0.48, 0.58, 0.47, 0.51, 0.54, 0.54, 0.52, 0.49, 0.5, 0.54, 0.53, 0.52, 0.49, 0.53, 0.51, 0.63, 0.41, 0.48, 0.4, 0.49, 0.46, 0.48, 0.56, 0.55, 0.55, 0.6, 0.52, 0.51, 0.45, 0.54, 0.49, 0.52, 0.56, 0.54, 0.63, 0.49, 0.49, 0.48, 0.46, 0.5, 0.52, 0.42, 0.51, 0.55, 0.48, 0.5, 0.45, 0.53, 0.47, 0.53, 0.44, 0.59, 0.46, 0.48, 0.48, 0.57, 0.51, 0.58, 0.53, 0.47, 0.58, 0.46, 0.55, 0.46, 0.48, 0.46, 0.4, 0.53, 0.44, 0.43, 0.57, 0.52, 0.42, 0.56, 0.61, 0.51, 0.39, 0.54, 0.54, 0.49, 0.52, 0.47, 0.5, 0.47, 0.47, 0.49, 0.47, 0.54, 0.51, 0.54, 0.45, 0.49, 0.64, 0.51, 0.48, 0.5, 0.51, 0.54, 0.48, 0.56, 0.46, 0.54, 0.45, 0.43, 0.55, 0.53, 0.56, 0.5, 0.5, 0.44, 0.47, 0.55, 0.4, 0.51, 0.48, 0.56, 0.52, 0.56, 0.52, 0.47, 0.42, 0.47, 0.37, 0.49, 0.56, 0.49, 0.49, 0.55, 0.46, 0.55, 0.55, 0.51, 0.4, 0.57, 0.45, 0.46, 0.45, 0.48, 0.49, 0.53, 0.46, 0.41, 0.47, 0.64, 0.53, 0.52, 0.43, 0.51, 0.46, 0.58, 0.49, 0.45, 0.53, 0.49, 0.45, 0.51, 0.44, 0.5, 0.58, 0.52, 0.43, 0.53, 0.49, 0.45, 0.5, 0.47, 0.49, 0.45, 0.46, 0.57, 0.52, 0.53, 0.47, 0.59, 0.54, 0.5, 0.42, 0.47, 0.48, 0.52, 0.48, 0.56, 0.46, 0.54, 0.51, 0.55, 0.47, 0.56, 0.51, 0.46, 0.54, 0.52, 0.6, 0.6, 0.48, 0.6, 0.59, 0.43, 0.57, 0.51, 0.52, 0.48, 0.51, 0.47, 0.55, 0.52, 0.48, 0.51, 0.54, 0.46, 0.49, 0.46, 0.5, 0.48, 0.41, 0.52, 0.47, 0.42, 0.55, 0.38, 0.41, 0.54, 0.6, 0.45, 0.49, 0.47, 0.46, 0.44, 0.49, 0.45, 0.48, 0.54, 0.45, 0.47, 0.53, 0.47, 0.56, 0.47, 0.42, 0.52, 0.51, 0.5, 0.46, 0.54, 0.44, 0.49, 0.53, 0.55, 0.47, 0.5, 0.58, 0.55, 0.56, 0.43, 0.57, 0.54, 0.45, 0.52, 0.47, 0.5, 0.45, 0.34, 0.61, 0.44, 0.41, 0.51, 0.56, 0.4, 0.55, 0.42, 0.57, 0.5, 0.44, 0.45, 0.48, 0.48, 0.44, 0.51, 0.45, 0.47, 0.53, 0.42, 0.53, 0.56, 0.52, 0.56, 0.51, 0.5, 0.44, 0.55, 0.49, 0.52, 0.52, 0.49, 0.44, 0.52, 0.48, 0.51, 0.47, 0.47, 0.52, 0.46, 0.5, 0.48, 0.44, 0.54, 0.48, 0.43, 0.52, 0.5, 0.6, 0.5, 0.48, 0.43, 0.47, 0.58, 0.47, 0.58, 0.51, 0.48, 0.53, 0.51, 0.56, 0.57, 0.46, 0.49, 0.59, 0.56, 0.48, 0.49, 0.57, 0.49, 0.45, 0.53, 0.5, 0.41, 0.46, 0.42, 0.46, 0.49, 0.48, 0.47, 0.59, 0.54, 0.52, 0.45, 0.56, 0.56, 0.5, 0.45, 0.47, 0.54, 0.54, 0.46, 0.48, 0.52, 0.5, 0.45, 0.46, 0.49, 0.44, 0.6, 0.49, 0.47, 0.5, 0.44, 0.45, 0.53, 0.47, 0.61, 0.56, 0.55, 0.48, 0.55, 0.45, 0.55, 0.4, 0.43, 0.54, 0.53, 0.53, 0.49, 0.53, 0.56, 0.47, 0.46, 0.41, 0.61, 0.51, 0.55, 0.49, 0.49, 0.44, 0.54, 0.42, 0.55, 0.57, 0.49, 0.56, 0.4, 0.38, 0.5, 0.55, 0.51, 0.54, 0.41, 0.5, 0.46, 0.5, 0.49, 0.51, 0.39, 0.47, 0.49, 0.47, 0.54, 0.41, 0.5, 0.48, 0.48, 0.5, 0.43, 0.5, 0.45, 0.54, 0.47, 0.5, 0.46, 0.48, 0.68, 0.52, 0.44, 0.57, 0.4, 0.51, 0.44, 0.5, 0.51, 0.52, 0.47, 0.5, 0.5, 0.51, 0.46, 0.47, 0.49, 0.54, 0.57, 0.49, 0.51, 0.48, 0.42, 0.47, 0.49, 0.55, 0.57, 0.46, 0.38, 0.45, 0.49, 0.42, 0.55, 0.48, 0.42, 0.53, 0.5, 0.49, 0.43, 0.6, 0.46, 0.55, 0.51, 0.45, 0.44, 0.53, 0.47, 0.52, 0.56, 0.55, 0.52, 0.52, 0.57, 0.42, 0.46, 0.55, 0.49, 0.51, 0.53, 0.53, 0.44, 0.44, 0.49, 0.46, 0.56, 0.52, 0.5, 0.48, 0.55, 0.52, 0.44, 0.54, 0.52, 0.49, 0.46, 0.48, 0.5, 0.5, 0.58, 0.45, 0.48, 0.48, 0.54, 0.47, 0.49, 0.51, 0.53, 0.54, 0.51, 0.57, 0.52, 0.54, 0.53, 0.44, 0.58, 0.62, 0.47, 0.54, 0.48, 0.53, 0.59, 0.56, 0.54, 0.57, 0.6, 0.51, 0.43, 0.5, 0.46, 0.5, 0.48, 0.5, 0.57, 0.56, 0.58, 0.5, 0.51, 0.47, 0.5, 0.49, 0.54, 0.45, 0.37, 0.45, 0.41, 0.41, 0.42, 0.42, 0.48, 0.49, 0.47, 0.58, 0.6, 0.44, 0.52, 0.47, 0.44, 0.48, 0.49, 0.49, 0.47, 0.56, 0.51, 0.54, 0.5, 0.47, 0.48, 0.48, 0.52, 0.5, 0.52, 0.45, 0.46, 0.52, 0.53, 0.49, 0.52, 0.57, 0.4, 0.44, 0.46, 0.52, 0.51, 0.46, 0.6, 0.5, 0.5, 0.59, 0.51, 0.49, 0.58, 0.4, 0.52, 0.49, 0.53, 0.54, 0.57, 0.45, 0.44, 0.47, 0.58, 0.42, 0.4, 0.48, 0.5, 0.5, 0.47, 0.51, 0.58, 0.5, 0.52, 0.4, 0.47, 0.53, 0.52, 0.54, 0.46, 0.49, 0.44, 0.53, 0.5, 0.49, 0.56, 0.52, 0.45, 0.56, 0.45, 0.49, 0.56, 0.39, 0.48, 0.51, 0.51, 0.51, 0.54, 0.44, 0.58, 0.52, 0.45, 0.46, 0.46, 0.51, 0.39, 0.6, 0.51, 0.49, 0.48, 0.58, 0.51, 0.45, 0.5, 0.49, 0.47, 0.54, 0.49, 0.39, 0.51, 0.54, 0.54, 0.56, 0.41, 0.53, 0.51, 0.45, 0.49, 0.53, 0.55, 0.49, 0.48, 0.58, 0.54, 0.58, 0.41, 0.5, 0.48, 0.45, 0.59, 0.41, 0.57, 0.51, 0.46, 0.48, 0.47, 0.47, 0.58, 0.47, 0.49, 0.46, 0.47, 0.47, 0.49, 0.54, 0.51, 0.41, 0.46, 0.41, 0.47, 0.53, 0.49, 0.55, 0.52, 0.43, 0.45, 0.51, 0.59, 0.46, 0.51, 0.47, 0.45, 0.6, 0.45, 0.53, 0.53, 0.53, 0.51, 0.5, 0.65, 0.45, 0.57, 0.54, 0.48, 0.48, 0.54, 0.49, 0.44, 0.5, 0.55, 0.51, 0.52, 0.58, 0.49, 0.49, 0.5, 0.42, 0.48, 0.48, 0.5, 0.55, 0.56, 0.41, 0.51, 0.55, 0.36, 0.55, 0.59, 0.45, 0.56, 0.53, 0.43, 0.59, 0.49, 0.5, 0.47, 0.59, 0.53, 0.55, 0.4, 0.54, 0.48, 0.5, 0.5, 0.45, 0.57, 0.55, 0.49, 0.53, 0.5, 0.43, 0.42, 0.44, 0.45, 0.5, 0.54, 0.51, 0.5, 0.52, 0.41, 0.54, 0.41, 0.53, 0.43, 0.53, 0.52, 0.36, 0.5, 0.53, 0.48, 0.51, 0.51, 0.42, 0.48, 0.51, 0.56, 0.54, 0.46, 0.49, 0.52, 0.53, 0.46, 0.46, 0.51, 0.49, 0.52, 0.4, 0.5, 0.46, 0.47, 0.49, 0.52, 0.46, 0.42, 0.45, 0.45, 0.51, 0.53, 0.52, 0.56, 0.48, 0.51, 0.53, 0.51, 0.52, 0.53, 0.55, 0.51, 0.53, 0.47, 0.49, 0.56, 0.49, 0.46, 0.43, 0.55, 0.56, 0.48, 0.56, 0.48, 0.58, 0.51, 0.52, 0.49, 0.5, 0.55, 0.56, 0.49, 0.44, 0.53, 0.5, 0.53, 0.43, 0.4, 0.52, 0.48, 0.54, 0.43, 0.46, 0.46, 0.43, 0.5, 0.56, 0.48, 0.54, 0.49, 0.54, 0.5, 0.43, 0.53, 0.55, 0.46, 0.44, 0.55, 0.57, 0.54, 0.57, 0.46, 0.53, 0.55, 0.46, 0.55, 0.5, 0.5, 0.56, 0.54, 0.54, 0.47, 0.44, 0.47, 0.5, 0.47, 0.48, 0.54, 0.52, 0.48, 0.54, 0.53, 0.5, 0.53, 0.45, 0.5, 0.52, 0.55, 0.48, 0.56, 0.49, 0.47, 0.51, 0.52, 0.57, 0.53, 0.52, 0.55, 0.44, 0.57, 0.56, 0.43, 0.56, 0.45, 0.49, 0.52, 0.43, 0.54, 0.51, 0.51, 0.4, 0.44, 0.58, 0.41, 0.6, 0.49, 0.54, 0.5, 0.53, 0.49, 0.6, 0.49, 0.5, 0.47, 0.54, 0.51, 0.53, 0.5, 0.55, 0.43, 0.44, 0.49, 0.49, 0.56, 0.55, 0.54, 0.56, 0.5, 0.49, 0.5, 0.47, 0.54, 0.51, 0.52, 0.53, 0.47, 0.51, 0.51, 0.58, 0.52, 0.47, 0.48, 0.52, 0.46, 0.54, 0.49, 0.53, 0.36, 0.56, 0.53, 0.53, 0.48, 0.5, 0.47, 0.51, 0.5, 0.46, 0.55, 0.47, 0.51, 0.39, 0.45, 0.54, 0.5, 0.54, 0.56, 0.49, 0.5, 0.41, 0.53, 0.58, 0.55, 0.48, 0.56, 0.46, 0.5, 0.49, 0.44, 0.5, 0.47, 0.51, 0.45, 0.53, 0.49, 0.44, 0.46, 0.51, 0.54, 0.44, 0.54, 0.45, 0.52, 0.5, 0.61, 0.53, 0.55, 0.55, 0.57, 0.54, 0.53, 0.53, 0.48, 0.42, 0.42, 0.51, 0.51, 0.45, 0.45, 0.45, 0.49, 0.43, 0.42, 0.49, 0.55, 0.49, 0.47, 0.46, 0.34, 0.56, 0.57, 0.52, 0.52, 0.47, 0.5, 0.52, 0.47, 0.49, 0.58, 0.54, 0.53, 0.57, 0.52, 0.43, 0.54, 0.46, 0.54, 0.51, 0.56, 0.46, 0.43, 0.6, 0.46, 0.47, 0.45, 0.45, 0.52, 0.47, 0.46, 0.46, 0.44, 0.48, 0.54, 0.61, 0.49, 0.46, 0.5, 0.52, 0.52, 0.49, 0.52, 0.49, 0.5, 0.48, 0.47, 0.44, 0.57, 0.44, 0.51, 0.51, 0.5, 0.4, 0.45, 0.49, 0.5, 0.57, 0.52, 0.51, 0.49, 0.42, 0.57, 0.47, 0.48, 0.53, 0.54, 0.49, 0.54, 0.55, 0.56, 0.51, 0.56, 0.55, 0.39, 0.44, 0.52, 0.51, 0.43, 0.55, 0.47, 0.48, 0.53, 0.48, 0.56, 0.45, 0.54, 0.45, 0.49, 0.57, 0.49, 0.46, 0.51, 0.49, 0.47, 0.55, 0.44, 0.44, 0.51, 0.49, 0.57, 0.43, 0.55, 0.53, 0.56, 0.54, 0.45, 0.52, 0.5, 0.5, 0.55, 0.52, 0.49, 0.47, 0.58, 0.52, 0.46, 0.45, 0.42, 0.57, 0.52, 0.43, 0.43, 0.47, 0.54, 0.53, 0.47, 0.49, 0.53, 0.42, 0.48, 0.45, 0.58, 0.56, 0.46, 0.46, 0.51, 0.44, 0.58, 0.52, 0.47, 0.45, 0.58, 0.43, 0.45, 0.51, 0.41, 0.45, 0.58, 0.48, 0.55, 0.53, 0.49, 0.57, 0.43, 0.4, 0.53, 0.53, 0.45, 0.53, 0.59, 0.65, 0.54, 0.53, 0.5, 0.48, 0.46, 0.56, 0.53, 0.46, 0.55, 0.44, 0.49, 0.52, 0.44, 0.56, 0.48, 0.58, 0.48, 0.54, 0.54, 0.55, 0.39, 0.46, 0.49, 0.52, 0.37, 0.47, 0.52, 0.52, 0.52, 0.48, 0.5, 0.55, 0.49, 0.56, 0.45, 0.49, 0.56, 0.52, 0.46, 0.56, 0.47, 0.46, 0.39, 0.48, 0.5, 0.5, 0.44, 0.48, 0.46, 0.56, 0.56, 0.51, 0.49, 0.66, 0.46, 0.51, 0.56, 0.53, 0.54, 0.51, 0.48, 0.53, 0.54, 0.54, 0.45, 0.43, 0.54, 0.52, 0.49, 0.54, 0.53, 0.55, 0.58, 0.52, 0.51, 0.5, 0.56, 0.53, 0.52, 0.5, 0.46, 0.45, 0.47, 0.6, 0.55, 0.46, 0.58, 0.52, 0.57, 0.56, 0.44, 0.42, 0.52, 0.52, 0.45, 0.47, 0.48, 0.54, 0.47, 0.54, 0.49, 0.53, 0.59, 0.54, 0.46, 0.56, 0.55, 0.42, 0.49, 0.48, 0.53, 0.53, 0.49, 0.48, 0.55, 0.48, 0.51, 0.57, 0.59, 0.59, 0.55, 0.48, 0.5, 0.48, 0.53, 0.46, 0.52, 0.48, 0.4, 0.52, 0.52, 0.45, 0.49, 0.56, 0.49, 0.43, 0.51, 0.52, 0.51, 0.4, 0.46, 0.44, 0.5, 0.48, 0.52, 0.47, 0.45, 0.49, 0.46, 0.6, 0.56, 0.54, 0.53, 0.47, 0.5, 0.43, 0.48, 0.5, 0.51, 0.46, 0.53, 0.47, 0.53, 0.46, 0.5, 0.57, 0.51, 0.48, 0.51, 0.54, 0.44, 0.54, 0.49, 0.6, 0.5, 0.46, 0.49, 0.53, 0.57, 0.48, 0.53, 0.45, 0.47, 0.5, 0.51, 0.47, 0.49, 0.51, 0.53, 0.34, 0.56, 0.5, 0.51, 0.6, 0.56, 0.43, 0.45, 0.49, 0.46, 0.5, 0.54, 0.46, 0.47, 0.45, 0.42, 0.45, 0.41, 0.48, 0.54, 0.42, 0.55, 0.49, 0.52, 0.51, 0.62, 0.45, 0.55, 0.46, 0.5, 0.5, 0.52, 0.53, 0.64, 0.45, 0.5, 0.49, 0.58, 0.57, 0.55, 0.54, 0.5, 0.43, 0.59, 0.5, 0.43, 0.53, 0.63, 0.51, 0.57, 0.53, 0.42, 0.52, 0.45, 0.46, 0.53, 0.52, 0.45, 0.54, 0.58, 0.52, 0.47, 0.5, 0.39, 0.45, 0.5, 0.54, 0.49, 0.46, 0.58, 0.54, 0.54, 0.51, 0.55, 0.66, 0.51, 0.45, 0.47, 0.55, 0.45, 0.52, 0.46, 0.45, 0.55, 0.46, 0.45, 0.49, 0.41, 0.49, 0.43, 0.48, 0.5, 0.49, 0.52, 0.53, 0.56, 0.47, 0.62, 0.54, 0.4, 0.49, 0.58, 0.57, 0.46, 0.43, 0.47, 0.47, 0.49, 0.59, 0.51, 0.5, 0.5, 0.46, 0.49, 0.47, 0.54, 0.45, 0.52, 0.49, 0.5, 0.52, 0.52, 0.44, 0.57, 0.44, 0.54, 0.46, 0.52, 0.46, 0.49, 0.54, 0.4, 0.51, 0.57, 0.53, 0.64, 0.47, 0.48, 0.48, 0.48, 0.54, 0.59, 0.52, 0.46, 0.57, 0.5, 0.57, 0.58, 0.44, 0.57, 0.52, 0.5, 0.47, 0.41, 0.57, 0.48, 0.54, 0.64, 0.53, 0.42, 0.51, 0.57, 0.54, 0.41, 0.45, 0.54, 0.62, 0.55, 0.42, 0.46, 0.52, 0.52, 0.53, 0.56, 0.49, 0.47, 0.53, 0.56, 0.47, 0.53, 0.55, 0.42, 0.48, 0.58, 0.57, 0.54, 0.54, 0.45, 0.5, 0.51, 0.53, 0.52, 0.48, 0.46, 0.44, 0.54, 0.52, 0.44, 0.55, 0.42, 0.48, 0.47, 0.5, 0.54, 0.5, 0.42, 0.46, 0.52, 0.5, 0.46, 0.45, 0.54, 0.45, 0.53, 0.4, 0.41, 0.49, 0.47, 0.41, 0.45, 0.44, 0.44, 0.48, 0.41, 0.47, 0.49, 0.46, 0.48, 0.6, 0.46, 0.5, 0.53, 0.58, 0.45, 0.53, 0.37, 0.51, 0.48, 0.51, 0.42, 0.5, 0.52, 0.46, 0.49, 0.51, 0.48, 0.49, 0.54, 0.49, 0.48, 0.46, 0.54, 0.54, 0.55, 0.49, 0.39, 0.52, 0.47, 0.55, 0.49, 0.45, 0.54, 0.55, 0.46, 0.57, 0.48, 0.55, 0.54, 0.51, 0.48, 0.52, 0.48, 0.58, 0.51, 0.48, 0.47, 0.48, 0.52, 0.42, 0.44, 0.55, 0.52, 0.47, 0.52, 0.56, 0.46, 0.46, 0.55, 0.45, 0.56, 0.48, 0.42, 0.55, 0.45, 0.52, 0.51, 0.53, 0.56, 0.52, 0.54, 0.56, 0.48, 0.45, 0.55, 0.55, 0.46, 0.52, 0.52, 0.46, 0.46, 0.49, 0.48, 0.49, 0.5, 0.47, 0.61, 0.47, 0.53, 0.43, 0.46, 0.48, 0.42, 0.5, 0.55, 0.44, 0.52, 0.46, 0.58, 0.47, 0.45, 0.5, 0.55, 0.47, 0.5, 0.45, 0.5, 0.43, 0.5, 0.42, 0.54, 0.54, 0.43, 0.53, 0.42, 0.51, 0.42, 0.48, 0.48, 0.56, 0.53, 0.42, 0.46, 0.55, 0.42, 0.53, 0.55, 0.47, 0.46, 0.55, 0.48, 0.45, 0.56, 0.42, 0.53, 0.54, 0.49, 0.58, 0.64, 0.55, 0.49, 0.52, 0.5, 0.57, 0.49, 0.52, 0.45, 0.49, 0.49, 0.55, 0.55, 0.56, 0.55, 0.53, 0.5, 0.62, 0.42, 0.47, 0.5, 0.47, 0.41, 0.49, 0.52, 0.48, 0.54, 0.49, 0.5, 0.49, 0.57, 0.55, 0.48, 0.44, 0.48, 0.62, 0.54, 0.48, 0.55, 0.6, 0.52, 0.57, 0.44, 0.49, 0.5, 0.43, 0.49, 0.43, 0.53, 0.52, 0.5, 0.49, 0.43, 0.5, 0.47, 0.5, 0.46, 0.53, 0.45, 0.44, 0.54, 0.56, 0.48, 0.43, 0.52, 0.5, 0.41, 0.45, 0.54, 0.48, 0.48, 0.57, 0.57, 0.54, 0.42, 0.48, 0.49, 0.49, 0.52, 0.52, 0.5, 0.52, 0.42, 0.59, 0.44, 0.5, 0.46, 0.45, 0.49, 0.53, 0.47, 0.52, 0.41, 0.58, 0.46, 0.41, 0.49, 0.51, 0.5, 0.47, 0.53, 0.52, 0.45, 0.55, 0.48, 0.46, 0.56, 0.48, 0.42, 0.42, 0.47, 0.57, 0.48, 0.49, 0.47, 0.45, 0.48, 0.47, 0.48, 0.54, 0.44, 0.58, 0.49, 0.5, 0.49, 0.5, 0.5, 0.5, 0.46, 0.44, 0.47, 0.52, 0.48, 0.52, 0.4, 0.49, 0.36, 0.45, 0.51, 0.48, 0.52, 0.44, 0.53, 0.46, 0.55, 0.48, 0.56, 0.48, 0.52, 0.51, 0.49, 0.49, 0.51, 0.48, 0.51, 0.52, 0.54, 0.52, 0.48, 0.46, 0.48, 0.54, 0.43, 0.47, 0.55, 0.56, 0.48, 0.47, 0.48, 0.5, 0.51, 0.54, 0.51, 0.49, 0.47, 0.5, 0.51, 0.53, 0.49, 0.58, 0.48, 0.51, 0.48, 0.44, 0.52, 0.51, 0.46, 0.44, 0.48, 0.5, 0.52, 0.54, 0.55, 0.46, 0.47, 0.61, 0.47, 0.51, 0.54, 0.38, 0.47, 0.45, 0.51, 0.58, 0.47, 0.47, 0.54, 0.45, 0.43, 0.45, 0.5, 0.47, 0.52, 0.56, 0.52, 0.47, 0.49, 0.52, 0.52, 0.48, 0.48, 0.44, 0.57, 0.44, 0.49, 0.45, 0.5, 0.48, 0.59, 0.53, 0.46, 0.48, 0.44, 0.51, 0.44, 0.53, 0.47, 0.47, 0.55, 0.51, 0.59, 0.44, 0.49, 0.53, 0.48, 0.52, 0.52, 0.46, 0.52, 0.36, 0.46, 0.48, 0.51, 0.48, 0.46, 0.51, 0.53, 0.54, 0.46, 0.46, 0.52, 0.46, 0.44, 0.49, 0.56, 0.48, 0.5, 0.49, 0.44, 0.49, 0.51, 0.56, 0.58, 0.56, 0.51, 0.46, 0.5, 0.56, 0.48, 0.55, 0.48, 0.49, 0.48, 0.49, 0.53, 0.46, 0.56, 0.57, 0.48, 0.39, 0.43, 0.47, 0.47, 0.57, 0.61, 0.46, 0.53, 0.62, 0.55, 0.44, 0.47, 0.54, 0.48, 0.47, 0.5, 0.44, 0.4, 0.51, 0.63, 0.49, 0.57, 0.52, 0.57, 0.61, 0.51, 0.45, 0.48, 0.47, 0.41, 0.45, 0.55, 0.46, 0.37, 0.49, 0.53, 0.48, 0.47, 0.54, 0.61, 0.46, 0.53, 0.51, 0.48, 0.57, 0.52, 0.48, 0.46, 0.47, 0.56, 0.47, 0.48, 0.47, 0.46, 0.49, 0.45, 0.55, 0.56, 0.43, 0.51, 0.55, 0.52, 0.5, 0.53, 0.48, 0.53, 0.42, 0.57, 0.46, 0.53, 0.57, 0.52, 0.48, 0.52, 0.53, 0.48, 0.56, 0.5, 0.49, 0.52, 0.55, 0.51, 0.49, 0.49, 0.47, 0.52, 0.5, 0.42, 0.52, 0.48, 0.56, 0.37, 0.47, 0.51, 0.51, 0.45, 0.45, 0.45, 0.47, 0.49, 0.59, 0.36, 0.55, 0.51, 0.38, 0.5, 0.41, 0.51, 0.56, 0.5, 0.49, 0.37, 0.47, 0.51, 0.46, 0.47, 0.5, 0.47, 0.54, 0.46, 0.53, 0.51, 0.53, 0.53, 0.47, 0.47, 0.47, 0.51, 0.51, 0.47, 0.49, 0.5, 0.47, 0.5, 0.47, 0.47, 0.47, 0.6, 0.5, 0.52, 0.46, 0.52, 0.47, 0.41, 0.45, 0.43, 0.5, 0.4, 0.51, 0.4, 0.61, 0.54, 0.45, 0.48, 0.51, 0.42, 0.46, 0.58, 0.44, 0.51, 0.52, 0.5, 0.44, 0.53, 0.51, 0.46, 0.46, 0.57, 0.54, 0.44, 0.52, 0.46, 0.5, 0.55, 0.54, 0.55, 0.52, 0.46, 0.53, 0.41, 0.42, 0.48, 0.42, 0.48, 0.45, 0.48, 0.43, 0.54, 0.49, 0.54, 0.45, 0.51, 0.34, 0.55, 0.6, 0.44, 0.35, 0.4, 0.53, 0.47, 0.42, 0.52, 0.52, 0.57, 0.46, 0.55, 0.49, 0.45, 0.53, 0.51, 0.53, 0.45, 0.47, 0.53, 0.49, 0.57, 0.43, 0.43, 0.45, 0.49, 0.43, 0.55, 0.62, 0.47, 0.47, 0.6, 0.56, 0.49, 0.43, 0.54, 0.52, 0.54, 0.52, 0.51, 0.46, 0.54, 0.56, 0.57, 0.57, 0.5, 0.53, 0.43, 0.5, 0.45, 0.52, 0.5, 0.38, 0.5, 0.55, 0.46]\n"
          ],
          "name": "stdout"
        }
      ]
    },
    {
      "cell_type": "code",
      "metadata": {
        "id": "rfeA06evOT2K",
        "colab_type": "code",
        "outputId": "884410b7-dbf8-4fe6-abe3-8389c2206314",
        "colab": {
          "base_uri": "https://localhost:8080/",
          "height": 206
        }
      },
      "source": [
        "# Create dataframe with single coin flip\n",
        "df = pd.DataFrame({'one-samp': one_sample})\n",
        "\n",
        "df.head()"
      ],
      "execution_count": 0,
      "outputs": [
        {
          "output_type": "execute_result",
          "data": {
            "text/html": [
              "<div>\n",
              "<style scoped>\n",
              "    .dataframe tbody tr th:only-of-type {\n",
              "        vertical-align: middle;\n",
              "    }\n",
              "\n",
              "    .dataframe tbody tr th {\n",
              "        vertical-align: top;\n",
              "    }\n",
              "\n",
              "    .dataframe thead th {\n",
              "        text-align: right;\n",
              "    }\n",
              "</style>\n",
              "<table border=\"1\" class=\"dataframe\">\n",
              "  <thead>\n",
              "    <tr style=\"text-align: right;\">\n",
              "      <th></th>\n",
              "      <th>one-samp</th>\n",
              "    </tr>\n",
              "  </thead>\n",
              "  <tbody>\n",
              "    <tr>\n",
              "      <th>0</th>\n",
              "      <td>0</td>\n",
              "    </tr>\n",
              "    <tr>\n",
              "      <th>1</th>\n",
              "      <td>1</td>\n",
              "    </tr>\n",
              "    <tr>\n",
              "      <th>2</th>\n",
              "      <td>1</td>\n",
              "    </tr>\n",
              "    <tr>\n",
              "      <th>3</th>\n",
              "      <td>0</td>\n",
              "    </tr>\n",
              "    <tr>\n",
              "      <th>4</th>\n",
              "      <td>0</td>\n",
              "    </tr>\n",
              "  </tbody>\n",
              "</table>\n",
              "</div>"
            ],
            "text/plain": [
              "   one-samp\n",
              "0         0\n",
              "1         1\n",
              "2         1\n",
              "3         0\n",
              "4         0"
            ]
          },
          "metadata": {
            "tags": []
          },
          "execution_count": 21
        }
      ]
    },
    {
      "cell_type": "code",
      "metadata": {
        "id": "GlMSNFX6OmBV",
        "colab_type": "code",
        "outputId": "c9b9e588-0c6c-4680-8e7c-a179ec29f414",
        "colab": {
          "base_uri": "https://localhost:8080/",
          "height": 281
        }
      },
      "source": [
        "# Plot histogram to look at distribution of a single coin flip \n",
        "df. hist();"
      ],
      "execution_count": 0,
      "outputs": [
        {
          "output_type": "display_data",
          "data": {
            "image/png": "[encoded data removed]",
            "text/plain": [
              "<Figure size 432x288 with 1 Axes>"
            ]
          },
          "metadata": {
            "tags": []
          }
        }
      ]
    },
    {
      "cell_type": "code",
      "metadata": {
        "id": "Jie4ypgLOs5M",
        "colab_type": "code",
        "outputId": "f4fb5d69-20fc-4660-da9e-fb437f6f09ac",
        "colab": {
          "base_uri": "https://localhost:8080/",
          "height": 314
        }
      },
      "source": [
        "# Plot histogram to look at distribution of all coin flips\n",
        "ax = plt.hist(sample_means, bins = 30)\n",
        "plt.title(f'Distribution of {N} sample means \\n (of 30 coinflips each)')"
      ],
      "execution_count": 0,
      "outputs": [
        {
          "output_type": "execute_result",
          "data": {
            "text/plain": [
              "Text(0.5, 1.0, 'Distribution of 3000 sample means \\n (of 30 coinflips each)')"
            ]
          },
          "metadata": {
            "tags": []
          },
          "execution_count": 23
        },
        {
          "output_type": "display_data",
          "data": {
            "image/png": "[encoded data removed]",
            "text/plain": [
              "<Figure size 432x288 with 1 Axes>"
            ]
          },
          "metadata": {
            "tags": []
          }
        }
      ]
    },
    {
      "cell_type": "markdown",
      "metadata": {
        "id": "LsEAjc4rOylm",
        "colab_type": "text"
      },
      "source": [
        "What does the Central Limit Theorem State? That no matter the initial distribution of the population, the distribution of sample means taken will approximate a normal distribution as $n \\rightarrow \\infty$.\n",
        "\n",
        "This has very important implications for hypothesis testing and is precisely the reason why the t-distribution begins to approximate the normal distribution as our sample size increases. "
      ]
    },
    {
      "cell_type": "markdown",
      "metadata": {
        "id": "EYqo5vZZSFUr",
        "colab_type": "text"
      },
      "source": [
        "## Standard Error of the Mean\n",
        "\n",
        "What does it mean to \"estimate\"? the Population mean?"
      ]
    },
    {
      "cell_type": "code",
      "metadata": {
        "id": "puGXH6vbSIE4",
        "colab_type": "code",
        "outputId": "344fa0cb-12fe-43ce-993a-2e780e5cd223",
        "colab": {
          "base_uri": "https://localhost:8080/",
          "height": 72
        }
      },
      "source": [
        "import numpy as np\n",
        "import pandas as pd\n",
        "\n",
        "# Average Height\n",
        "mu = 70\n",
        "sigma = 3\n",
        "\n",
        "lambda_heights = np.random.normal(mu, sigma, 2000)\n",
        "print(len(lambda_heights))\n",
        "lambda_heights"
      ],
      "execution_count": 0,
      "outputs": [
        {
          "output_type": "stream",
          "text": [
            "2000\n"
          ],
          "name": "stdout"
        },
        {
          "output_type": "execute_result",
          "data": {
            "text/plain": [
              "array([71.03530513, 71.61592944, 67.49641508, ..., 71.90471463,\n",
              "       73.32072747, 72.89124846])"
            ]
          },
          "metadata": {
            "tags": []
          },
          "execution_count": 30
        }
      ]
    },
    {
      "cell_type": "code",
      "metadata": {
        "id": "2X-aKCTSXVOc",
        "colab_type": "code",
        "outputId": "7bb75329-dac9-4f73-f9b5-c58a1b7608ef",
        "colab": {
          "base_uri": "https://localhost:8080/",
          "height": 281
        }
      },
      "source": [
        "import seaborn as sns\n",
        "\n",
        "sns.distplot(lambda_heights)\n",
        "plt.title('Distribution of Heights (in inches)');"
      ],
      "execution_count": 0,
      "outputs": [
        {
          "output_type": "display_data",
          "data": {
            "image/png": "[encoded data removed]",
            "text/plain": [
              "<Figure size 432x288 with 1 Axes>"
            ]
          },
          "metadata": {
            "tags": []
          }
        }
      ]
    },
    {
      "cell_type": "code",
      "metadata": {
        "id": "fQlloeU4qwuI",
        "colab_type": "code",
        "outputId": "58e7e14c-b7ff-459e-e57e-a96e7ac86bfa",
        "colab": {
          "base_uri": "https://localhost:8080/",
          "height": 53
        }
      },
      "source": [
        "print(\"Population Mean:\", lambda_heights.mean())\n",
        "print(\"Population Standard Deviation:\", lambda_heights.std())"
      ],
      "execution_count": 0,
      "outputs": [
        {
          "output_type": "stream",
          "text": [
            "Population Mean: 70.0013215972053\n",
            "Population Standard Deviation: 3.0776400093792056\n"
          ],
          "name": "stdout"
        }
      ]
    },
    {
      "cell_type": "code",
      "metadata": {
        "id": "sOD7gQMxq3ib",
        "colab_type": "code",
        "outputId": "c028985c-362b-4c2d-ffea-63a873222932",
        "colab": {
          "base_uri": "https://localhost:8080/",
          "height": 224
        }
      },
      "source": [
        "population = pd.DataFrame({'heights': lambda_heights})\n",
        "print(population.shape)\n",
        "population.head()"
      ],
      "execution_count": 0,
      "outputs": [
        {
          "output_type": "stream",
          "text": [
            "(2000, 1)\n"
          ],
          "name": "stdout"
        },
        {
          "output_type": "execute_result",
          "data": {
            "text/html": [
              "<div>\n",
              "<style scoped>\n",
              "    .dataframe tbody tr th:only-of-type {\n",
              "        vertical-align: middle;\n",
              "    }\n",
              "\n",
              "    .dataframe tbody tr th {\n",
              "        vertical-align: top;\n",
              "    }\n",
              "\n",
              "    .dataframe thead th {\n",
              "        text-align: right;\n",
              "    }\n",
              "</style>\n",
              "<table border=\"1\" class=\"dataframe\">\n",
              "  <thead>\n",
              "    <tr style=\"text-align: right;\">\n",
              "      <th></th>\n",
              "      <th>heights</th>\n",
              "    </tr>\n",
              "  </thead>\n",
              "  <tbody>\n",
              "    <tr>\n",
              "      <th>0</th>\n",
              "      <td>71.035305</td>\n",
              "    </tr>\n",
              "    <tr>\n",
              "      <th>1</th>\n",
              "      <td>71.615929</td>\n",
              "    </tr>\n",
              "    <tr>\n",
              "      <th>2</th>\n",
              "      <td>67.496415</td>\n",
              "    </tr>\n",
              "    <tr>\n",
              "      <th>3</th>\n",
              "      <td>73.862177</td>\n",
              "    </tr>\n",
              "    <tr>\n",
              "      <th>4</th>\n",
              "      <td>71.052172</td>\n",
              "    </tr>\n",
              "  </tbody>\n",
              "</table>\n",
              "</div>"
            ],
            "text/plain": [
              "     heights\n",
              "0  71.035305\n",
              "1  71.615929\n",
              "2  67.496415\n",
              "3  73.862177\n",
              "4  71.052172"
            ]
          },
          "metadata": {
            "tags": []
          },
          "execution_count": 33
        }
      ]
    },
    {
      "cell_type": "code",
      "metadata": {
        "id": "A1DEQgCAq75F",
        "colab_type": "code",
        "outputId": "96ef78b7-a3f7-45da-abdd-6589692880ff",
        "colab": {
          "base_uri": "https://localhost:8080/",
          "height": 224
        }
      },
      "source": [
        "\n",
        "# Take a random sample and print sample mean\n",
        "sample1 = population.sample(100)\n",
        "print(sample1.shape)\n",
        "sample1.head()"
      ],
      "execution_count": 0,
      "outputs": [
        {
          "output_type": "stream",
          "text": [
            "(100, 1)\n"
          ],
          "name": "stdout"
        },
        {
          "output_type": "execute_result",
          "data": {
            "text/html": [
              "<div>\n",
              "<style scoped>\n",
              "    .dataframe tbody tr th:only-of-type {\n",
              "        vertical-align: middle;\n",
              "    }\n",
              "\n",
              "    .dataframe tbody tr th {\n",
              "        vertical-align: top;\n",
              "    }\n",
              "\n",
              "    .dataframe thead th {\n",
              "        text-align: right;\n",
              "    }\n",
              "</style>\n",
              "<table border=\"1\" class=\"dataframe\">\n",
              "  <thead>\n",
              "    <tr style=\"text-align: right;\">\n",
              "      <th></th>\n",
              "      <th>heights</th>\n",
              "    </tr>\n",
              "  </thead>\n",
              "  <tbody>\n",
              "    <tr>\n",
              "      <th>969</th>\n",
              "      <td>67.283614</td>\n",
              "    </tr>\n",
              "    <tr>\n",
              "      <th>1216</th>\n",
              "      <td>70.886242</td>\n",
              "    </tr>\n",
              "    <tr>\n",
              "      <th>1250</th>\n",
              "      <td>68.607866</td>\n",
              "    </tr>\n",
              "    <tr>\n",
              "      <th>12</th>\n",
              "      <td>69.897287</td>\n",
              "    </tr>\n",
              "    <tr>\n",
              "      <th>1394</th>\n",
              "      <td>69.235126</td>\n",
              "    </tr>\n",
              "  </tbody>\n",
              "</table>\n",
              "</div>"
            ],
            "text/plain": [
              "        heights\n",
              "969   67.283614\n",
              "1216  70.886242\n",
              "1250  68.607866\n",
              "12    69.897287\n",
              "1394  69.235126"
            ]
          },
          "metadata": {
            "tags": []
          },
          "execution_count": 38
        }
      ]
    },
    {
      "cell_type": "code",
      "metadata": {
        "id": "xkODHPEFRnUT",
        "colab_type": "code",
        "outputId": "1219be3f-4aed-4d34-87fc-f7d7ade52172",
        "colab": {
          "base_uri": "https://localhost:8080/",
          "height": 35
        }
      },
      "source": [
        "print('Sample Mean #1:', sample1['heights'].mean())"
      ],
      "execution_count": 0,
      "outputs": [
        {
          "output_type": "stream",
          "text": [
            "Sample Mean #1: 70.2958573317429\n"
          ],
          "name": "stdout"
        }
      ]
    },
    {
      "cell_type": "code",
      "metadata": {
        "id": "SpMBMasFrJQK",
        "colab_type": "code",
        "outputId": "efd2cde9-f137-4911-e076-e31c762dbbab",
        "colab": {
          "base_uri": "https://localhost:8080/",
          "height": 224
        }
      },
      "source": [
        "# Take a different random sample and print sample mean\n",
        "sample2 = population.sample(100)\n",
        "print(sample1.shape)\n",
        "sample2.head()"
      ],
      "execution_count": 0,
      "outputs": [
        {
          "output_type": "stream",
          "text": [
            "(100, 1)\n"
          ],
          "name": "stdout"
        },
        {
          "output_type": "execute_result",
          "data": {
            "text/html": [
              "<div>\n",
              "<style scoped>\n",
              "    .dataframe tbody tr th:only-of-type {\n",
              "        vertical-align: middle;\n",
              "    }\n",
              "\n",
              "    .dataframe tbody tr th {\n",
              "        vertical-align: top;\n",
              "    }\n",
              "\n",
              "    .dataframe thead th {\n",
              "        text-align: right;\n",
              "    }\n",
              "</style>\n",
              "<table border=\"1\" class=\"dataframe\">\n",
              "  <thead>\n",
              "    <tr style=\"text-align: right;\">\n",
              "      <th></th>\n",
              "      <th>heights</th>\n",
              "    </tr>\n",
              "  </thead>\n",
              "  <tbody>\n",
              "    <tr>\n",
              "      <th>371</th>\n",
              "      <td>68.495063</td>\n",
              "    </tr>\n",
              "    <tr>\n",
              "      <th>362</th>\n",
              "      <td>70.884872</td>\n",
              "    </tr>\n",
              "    <tr>\n",
              "      <th>1090</th>\n",
              "      <td>74.603995</td>\n",
              "    </tr>\n",
              "    <tr>\n",
              "      <th>958</th>\n",
              "      <td>72.909523</td>\n",
              "    </tr>\n",
              "    <tr>\n",
              "      <th>1321</th>\n",
              "      <td>69.654411</td>\n",
              "    </tr>\n",
              "  </tbody>\n",
              "</table>\n",
              "</div>"
            ],
            "text/plain": [
              "        heights\n",
              "371   68.495063\n",
              "362   70.884872\n",
              "1090  74.603995\n",
              "958   72.909523\n",
              "1321  69.654411"
            ]
          },
          "metadata": {
            "tags": []
          },
          "execution_count": 39
        }
      ]
    },
    {
      "cell_type": "code",
      "metadata": {
        "id": "ljz-_48jR7EF",
        "colab_type": "code",
        "outputId": "ce05157b-0676-4966-b901-491619b92756",
        "colab": {
          "base_uri": "https://localhost:8080/",
          "height": 35
        }
      },
      "source": [
        "print('Sample Mean #2:', sample2['heights'].mean())"
      ],
      "execution_count": 0,
      "outputs": [
        {
          "output_type": "stream",
          "text": [
            "Sample Mean #2: 69.87512202348807\n"
          ],
          "name": "stdout"
        }
      ]
    },
    {
      "cell_type": "markdown",
      "metadata": {
        "id": "nfdQf8QYUUmw",
        "colab_type": "text"
      },
      "source": [
        "## Build and Interpret a Confidence Interval\n",
        "\n",
        "<img src=\"https://github.com/ryanallredblog/ryanallredblog.github.io/blob/master/img/Confidence_Interval.png?raw=true\" width=400>"
      ]
    },
    {
      "cell_type": "code",
      "metadata": {
        "id": "tBx71Kf0UjT3",
        "colab_type": "code",
        "outputId": "a27b97bf-2625-41cb-9083-692365a2e34f",
        "colab": {
          "base_uri": "https://localhost:8080/",
          "height": 53
        }
      },
      "source": [
        "coinflips_10000 = np.random.binomial(n=1, p=0.5, size=10000)\n",
        "\n",
        "\n",
        "sample_std = np.std(coinflips_10000) #little s in formula above\n",
        "print('Sample Standard Deviation', sample_std)\n",
        "\n",
        "sample_size = len(coinflips_10000) #This is the n\n",
        "print('Sample Size:', sample_size)"
      ],
      "execution_count": 0,
      "outputs": [
        {
          "output_type": "stream",
          "text": [
            "Sample Standard Deviation 0.49999215993853346\n",
            "Sample Size: 10000\n"
          ],
          "name": "stdout"
        }
      ]
    },
    {
      "cell_type": "code",
      "metadata": {
        "id": "Z7Mt81DSTJGm",
        "colab_type": "code",
        "outputId": "c30455dd-25dd-4b89-b4c0-d9e8038d4fe2",
        "colab": {
          "base_uri": "https://localhost:8080/",
          "height": 35
        }
      },
      "source": [
        "standard_error = sample_std/np.sqrt(sample_size)\n",
        "\n",
        "print(standard_error)"
      ],
      "execution_count": 0,
      "outputs": [
        {
          "output_type": "stream",
          "text": [
            "0.004999921599385335\n"
          ],
          "name": "stdout"
        }
      ]
    },
    {
      "cell_type": "markdown",
      "metadata": {
        "id": "RkYC5rnUw914",
        "colab_type": "text"
      },
      "source": [
        "### What confidence level do we want our confidence interval to represent?\n",
        "\n",
        "95% confidence Interval? 99% confidence interval? "
      ]
    },
    {
      "cell_type": "code",
      "metadata": {
        "id": "jze1zJsewQx_",
        "colab_type": "code",
        "outputId": "8cd0a6f9-40bb-4a2a-bc6e-08ab10ba10d3",
        "colab": {
          "base_uri": "https://localhost:8080/",
          "height": 245
        }
      },
      "source": [
        "import scipy.stats as stats\n",
        "#getting to the t in the formula\n",
        "#95% is usually the default\n",
        "t = stats.t.ppf(0.975, sample_size-1)     #t-statistic: left tail is usually 0, going right, it will increase in value (up to 1). 95% confidence interval is 0.975\n",
        "t"
      ],
      "execution_count": 14,
      "outputs": [
        {
          "output_type": "error",
          "ename": "NameError",
          "evalue": "ignored",
          "traceback": [
            "\u001b[0;31m---------------------------------------------------------------------------\u001b[0m",
            "\u001b[0;31mNameError\u001b[0m                                 Traceback (most recent call last)",
            "\u001b[0;32m<ipython-input-14-b800fde15ade>\u001b[0m in \u001b[0;36m<module>\u001b[0;34m()\u001b[0m\n\u001b[1;32m      2\u001b[0m \u001b[0;31m#getting to the t in the formula\u001b[0m\u001b[0;34m\u001b[0m\u001b[0;34m\u001b[0m\u001b[0;34m\u001b[0m\u001b[0m\n\u001b[1;32m      3\u001b[0m \u001b[0;31m#95% is usually the default\u001b[0m\u001b[0;34m\u001b[0m\u001b[0;34m\u001b[0m\u001b[0;34m\u001b[0m\u001b[0m\n\u001b[0;32m----> 4\u001b[0;31m \u001b[0mt\u001b[0m \u001b[0;34m=\u001b[0m \u001b[0mstats\u001b[0m\u001b[0;34m.\u001b[0m\u001b[0mt\u001b[0m\u001b[0;34m.\u001b[0m\u001b[0mppf\u001b[0m\u001b[0;34m(\u001b[0m\u001b[0;36m0.975\u001b[0m\u001b[0;34m,\u001b[0m \u001b[0msample_size\u001b[0m\u001b[0;34m-\u001b[0m\u001b[0;36m1\u001b[0m\u001b[0;34m)\u001b[0m     \u001b[0;31m#t-statistic: left tail is usually 0, going right, it will increase in value (up to 1). 95% confidence interval is 0.975\u001b[0m\u001b[0;34m\u001b[0m\u001b[0;34m\u001b[0m\u001b[0m\n\u001b[0m\u001b[1;32m      5\u001b[0m \u001b[0mt\u001b[0m\u001b[0;34m\u001b[0m\u001b[0;34m\u001b[0m\u001b[0m\n",
            "\u001b[0;31mNameError\u001b[0m: name 'sample_size' is not defined"
          ]
        }
      ]
    },
    {
      "cell_type": "code",
      "metadata": {
        "id": "8ubJe3WuVbfs",
        "colab_type": "code",
        "outputId": "ecc93bf9-2e6b-45da-b862-f3d197a9c1bd",
        "colab": {
          "base_uri": "https://localhost:8080/",
          "height": 72
        }
      },
      "source": [
        "sample_mean = coinflips_10000.mean()\n",
        "confidence_interval = (sample_mean - t*standard_error, sample_mean + t*standard_error) #(lower bound, upper bound)\n",
        "margin_of_error = t*standard_error\n",
        "print(\"Sample Mean: \", sample_mean)\n",
        "print(\"Margin of Error: \", margin_of_error)\n",
        "print(\"Confidence Interval: \", confidence_interval)  #meaning if you ran the experiment 100 times, 95% of them would fall within the bounds of the CI"
      ],
      "execution_count": 0,
      "outputs": [
        {
          "output_type": "stream",
          "text": [
            "Sample Mean:  0.5028\n",
            "Margin of Error:  0.009800852637122852\n",
            "Confidence Interval:  (0.4929991473628772, 0.5126008526371229)\n"
          ],
          "name": "stdout"
        }
      ]
    },
    {
      "cell_type": "markdown",
      "metadata": {
        "id": "C4rtc8luVUAK",
        "colab_type": "text"
      },
      "source": [
        "## Graphically Represent a Confidence Interval"
      ]
    },
    {
      "cell_type": "code",
      "metadata": {
        "id": "pz6F9_3_VmKr",
        "colab_type": "code",
        "outputId": "44447764-6851-4232-ee3c-da373b06ed0b",
        "colab": {
          "base_uri": "https://localhost:8080/",
          "height": 287
        }
      },
      "source": [
        "import seaborn as sns\n",
        "\n",
        "sns.kdeplot(coinflips_10000)\n",
        "plt.axvline(x=sample_mean, color='k')\n",
        "plt.axvline(x=confidence_interval[0], color='r')\n",
        "plt.axvline(x=confidence_interval[1], color='r')\n"
      ],
      "execution_count": 0,
      "outputs": [
        {
          "output_type": "execute_result",
          "data": {
            "text/plain": [
              "<matplotlib.lines.Line2D at 0x7fa2628a5eb8>"
            ]
          },
          "metadata": {
            "tags": []
          },
          "execution_count": 61
        },
        {
          "output_type": "display_data",
          "data": {
            "image/png": "[encoded data removed]",
            "text/plain": [
              "<Figure size 432x288 with 1 Axes>"
            ]
          },
          "metadata": {
            "tags": []
          }
        }
      ]
    },
    {
      "cell_type": "markdown",
      "metadata": {
        "id": "_oy0uoBGeoEb",
        "colab_type": "text"
      },
      "source": [
        "## Relationship between Confidence Intervals and T-tests\n",
        "\n",
        "Confidence Interval == Bounds of statistical significance for our t-test\n",
        "\n",
        "A sample mean that falls inside of our confidence interval will \"FAIL TO REJECT\" our null hypothesis\n",
        "\n",
        "A sample mean that falls outside of our confidence interval will \"REJECT\" our null hypothesis"
      ]
    },
    {
      "cell_type": "code",
      "metadata": {
        "id": "izIyVavzfCXS",
        "colab_type": "code",
        "colab": {}
      },
      "source": [
        "from scipy.stats import t, ttest_1samp"
      ],
      "execution_count": 0,
      "outputs": []
    },
    {
      "cell_type": "code",
      "metadata": {
        "id": "Y7HwdMwDfL1N",
        "colab_type": "code",
        "outputId": "47095237-145a-4aa7-c38b-ea23af72cf43",
        "colab": {
          "base_uri": "https://localhost:8080/",
          "height": 55
        }
      },
      "source": [
        "import numpy as np\n",
        "\n",
        "coinflip_means = []\n",
        "for x in range(0,100):\n",
        "  coinflips = np.random.binomial(n=1, p=.5, size=30)\n",
        "  coinflip_means.append(coinflips.mean())\n",
        "\n",
        "print(coinflip_means)"
      ],
      "execution_count": 0,
      "outputs": [
        {
          "output_type": "stream",
          "text": [
            "[0.4, 0.4666666666666667, 0.5333333333333333, 0.6, 0.5, 0.4666666666666667, 0.5, 0.6, 0.5, 0.4666666666666667, 0.5333333333333333, 0.4666666666666667, 0.5, 0.5666666666666667, 0.5333333333333333, 0.6, 0.7333333333333333, 0.4666666666666667, 0.5, 0.43333333333333335, 0.5666666666666667, 0.6, 0.4666666666666667, 0.43333333333333335, 0.5, 0.5, 0.4666666666666667, 0.5666666666666667, 0.4, 0.36666666666666664, 0.5666666666666667, 0.5333333333333333, 0.43333333333333335, 0.43333333333333335, 0.4, 0.5, 0.5666666666666667, 0.43333333333333335, 0.3333333333333333, 0.43333333333333335, 0.23333333333333334, 0.5, 0.4666666666666667, 0.5333333333333333, 0.4666666666666667, 0.6, 0.43333333333333335, 0.5333333333333333, 0.36666666666666664, 0.43333333333333335, 0.36666666666666664, 0.5666666666666667, 0.5, 0.5, 0.5, 0.6333333333333333, 0.6666666666666666, 0.26666666666666666, 0.5333333333333333, 0.6333333333333333, 0.5, 0.4666666666666667, 0.5666666666666667, 0.4, 0.4666666666666667, 0.5, 0.4, 0.7, 0.5333333333333333, 0.6, 0.5, 0.4666666666666667, 0.5, 0.6, 0.5666666666666667, 0.5666666666666667, 0.5333333333333333, 0.5, 0.5666666666666667, 0.4666666666666667, 0.43333333333333335, 0.5666666666666667, 0.43333333333333335, 0.5333333333333333, 0.3, 0.4666666666666667, 0.4666666666666667, 0.5, 0.6666666666666666, 0.6, 0.6666666666666666, 0.43333333333333335, 0.5333333333333333, 0.4, 0.5, 0.3333333333333333, 0.5, 0.6, 0.6666666666666666, 0.6333333333333333]\n"
          ],
          "name": "stdout"
        }
      ]
    },
    {
      "cell_type": "code",
      "metadata": {
        "id": "kVWb3NS_ZM0a",
        "colab_type": "code",
        "outputId": "e30667c7-bb8b-4b07-ddc5-a1c6baf3ca31",
        "colab": {
          "base_uri": "https://localhost:8080/",
          "height": 35
        }
      },
      "source": [
        "np.mean(coinflip_means)"
      ],
      "execution_count": 0,
      "outputs": [
        {
          "output_type": "execute_result",
          "data": {
            "text/plain": [
              "0.5023333333333333"
            ]
          },
          "metadata": {
            "tags": []
          },
          "execution_count": 66
        }
      ]
    },
    {
      "cell_type": "code",
      "metadata": {
        "id": "AeCqgKNCZwoV",
        "colab_type": "code",
        "outputId": "7554e765-f427-492a-b64e-edf01f6b5e08",
        "colab": {
          "base_uri": "https://localhost:8080/",
          "height": 53
        }
      },
      "source": [
        "#computing 95% confidence interval\n",
        "t_stat = stats.t.ppf(0.975, 99)\n",
        "print('T Statistic: ', t_stat) \n",
        "\n",
        "std_sample = np.std(coinflip_means)\n",
        "std_err = std_sample/np.sqrt(len(coinflip_means))\n",
        "\n",
        "CI = stats.t.interval(0.95, 99, loc=np.mean(coinflip_means), scale=std_err)\n",
        "print('95% confidence interval:', CI)"
      ],
      "execution_count": 0,
      "outputs": [
        {
          "output_type": "stream",
          "text": [
            "T Statistic:  1.9842169515086827\n",
            "95% confidence interval: (0.4844813834224666, 0.5201852832442)\n"
          ],
          "name": "stdout"
        }
      ]
    },
    {
      "cell_type": "markdown",
      "metadata": {
        "id": "EamZNJhAf-fY",
        "colab_type": "text"
      },
      "source": [
        "A null hypothesis that's just inside of our confidence interval == fail to reject\n",
        "\n"
      ]
    },
    {
      "cell_type": "code",
      "metadata": {
        "id": "cNpzYbjpfirR",
        "colab_type": "code",
        "outputId": "984ba825-a756-4ef1-aef4-50d92e868502",
        "colab": {
          "base_uri": "https://localhost:8080/",
          "height": 35
        }
      },
      "source": [
        "ttest_1samp(coinflip_means, 0.484) #testing to see if = to 0.5\n",
        "\n",
        "#we can see that the pvalue > .5, so we won't reject the null hypothesis\n",
        "\n",
        "#if we use values close to the confidence interval bounds, we're close to rejecting the null hypothesis"
      ],
      "execution_count": 0,
      "outputs": [
        {
          "output_type": "execute_result",
          "data": {
            "text/plain": [
              "Ttest_1sampResult(statistic=2.0275077736724865, pvalue=0.04529796837489776)"
            ]
          },
          "metadata": {
            "tags": []
          },
          "execution_count": 73
        }
      ]
    },
    {
      "cell_type": "markdown",
      "metadata": {
        "id": "hO34mbL9gHn1",
        "colab_type": "text"
      },
      "source": [
        "A null hypothesis that's just outside of our confidence interval == reject\n",
        "\n"
      ]
    },
    {
      "cell_type": "code",
      "metadata": {
        "id": "N4SUjj82gKlv",
        "colab_type": "code",
        "colab": {}
      },
      "source": [
        ""
      ],
      "execution_count": 0,
      "outputs": []
    },
    {
      "cell_type": "code",
      "metadata": {
        "id": "rQZvNu6B3b9b",
        "colab_type": "code",
        "colab": {}
      },
      "source": [
        "def confidence_interval(data, confidence=0.95):\n",
        "  \"\"\"\n",
        "  Calculate a confidence interval around a sample mean for given data.\n",
        "  Using t-distribution and two-tailed test, default 95% confidence. \n",
        "  \n",
        "  Arguments:\n",
        "    data - iterable (list or numpy array) of sample observations\n",
        "    confidence - level of confidence for the interval\n",
        "  \n",
        "  Returns:\n",
        "    tuple of (mean, lower bound, upper bound)\n",
        "  \"\"\"\n",
        "  data = np.array(data)\n",
        "  mean = np.mean(data)\n",
        "  n = len(data)\n",
        "  stderr = stats.sem(data)\n",
        "  interval = stderr * stats.t.ppf((1 + confidence) / 2.0, n - 1)\n",
        "  return (mean, mean - interval, mean + interval)"
      ],
      "execution_count": 0,
      "outputs": []
    },
    {
      "cell_type": "markdown",
      "metadata": {
        "id": "pTIzrkKdUaLl",
        "colab_type": "text"
      },
      "source": [
        "## Run a $\\chi^{2}$ Test \"by hand\" (Using Numpy)"
      ]
    },
    {
      "cell_type": "code",
      "metadata": {
        "id": "DDsovHUyUj3v",
        "colab_type": "code",
        "outputId": "e76d93b0-225f-4bf6-dabe-55134f04cc2f",
        "colab": {
          "base_uri": "https://localhost:8080/",
          "height": 328
        }
      },
      "source": [
        "df = pd.read_csv('https://raw.githubusercontent.com/ryanleeallred/datasets/master/adult.csv', na_values=\" ?\")\n",
        "print(df.shape)\n",
        "df.head()\n",
        "\n",
        "#Chi-squared tests runs on categorical data - Wikipedia has an in-depth explanation"
      ],
      "execution_count": 0,
      "outputs": [
        {
          "output_type": "stream",
          "text": [
            "(32561, 15)\n"
          ],
          "name": "stdout"
        },
        {
          "output_type": "execute_result",
          "data": {
            "text/html": [
              "<div>\n",
              "<style scoped>\n",
              "    .dataframe tbody tr th:only-of-type {\n",
              "        vertical-align: middle;\n",
              "    }\n",
              "\n",
              "    .dataframe tbody tr th {\n",
              "        vertical-align: top;\n",
              "    }\n",
              "\n",
              "    .dataframe thead th {\n",
              "        text-align: right;\n",
              "    }\n",
              "</style>\n",
              "<table border=\"1\" class=\"dataframe\">\n",
              "  <thead>\n",
              "    <tr style=\"text-align: right;\">\n",
              "      <th></th>\n",
              "      <th>age</th>\n",
              "      <th>workclass</th>\n",
              "      <th>fnlwgt</th>\n",
              "      <th>education</th>\n",
              "      <th>education-num</th>\n",
              "      <th>marital-status</th>\n",
              "      <th>occupation</th>\n",
              "      <th>relationship</th>\n",
              "      <th>race</th>\n",
              "      <th>sex</th>\n",
              "      <th>capital-gain</th>\n",
              "      <th>capital-loss</th>\n",
              "      <th>hours-per-week</th>\n",
              "      <th>country</th>\n",
              "      <th>salary</th>\n",
              "    </tr>\n",
              "  </thead>\n",
              "  <tbody>\n",
              "    <tr>\n",
              "      <th>0</th>\n",
              "      <td>39</td>\n",
              "      <td>State-gov</td>\n",
              "      <td>77516</td>\n",
              "      <td>Bachelors</td>\n",
              "      <td>13</td>\n",
              "      <td>Never-married</td>\n",
              "      <td>Adm-clerical</td>\n",
              "      <td>Not-in-family</td>\n",
              "      <td>White</td>\n",
              "      <td>Male</td>\n",
              "      <td>2174</td>\n",
              "      <td>0</td>\n",
              "      <td>40</td>\n",
              "      <td>United-States</td>\n",
              "      <td>&lt;=50K</td>\n",
              "    </tr>\n",
              "    <tr>\n",
              "      <th>1</th>\n",
              "      <td>50</td>\n",
              "      <td>Self-emp-not-inc</td>\n",
              "      <td>83311</td>\n",
              "      <td>Bachelors</td>\n",
              "      <td>13</td>\n",
              "      <td>Married-civ-spouse</td>\n",
              "      <td>Exec-managerial</td>\n",
              "      <td>Husband</td>\n",
              "      <td>White</td>\n",
              "      <td>Male</td>\n",
              "      <td>0</td>\n",
              "      <td>0</td>\n",
              "      <td>13</td>\n",
              "      <td>United-States</td>\n",
              "      <td>&lt;=50K</td>\n",
              "    </tr>\n",
              "    <tr>\n",
              "      <th>2</th>\n",
              "      <td>38</td>\n",
              "      <td>Private</td>\n",
              "      <td>215646</td>\n",
              "      <td>HS-grad</td>\n",
              "      <td>9</td>\n",
              "      <td>Divorced</td>\n",
              "      <td>Handlers-cleaners</td>\n",
              "      <td>Not-in-family</td>\n",
              "      <td>White</td>\n",
              "      <td>Male</td>\n",
              "      <td>0</td>\n",
              "      <td>0</td>\n",
              "      <td>40</td>\n",
              "      <td>United-States</td>\n",
              "      <td>&lt;=50K</td>\n",
              "    </tr>\n",
              "    <tr>\n",
              "      <th>3</th>\n",
              "      <td>53</td>\n",
              "      <td>Private</td>\n",
              "      <td>234721</td>\n",
              "      <td>11th</td>\n",
              "      <td>7</td>\n",
              "      <td>Married-civ-spouse</td>\n",
              "      <td>Handlers-cleaners</td>\n",
              "      <td>Husband</td>\n",
              "      <td>Black</td>\n",
              "      <td>Male</td>\n",
              "      <td>0</td>\n",
              "      <td>0</td>\n",
              "      <td>40</td>\n",
              "      <td>United-States</td>\n",
              "      <td>&lt;=50K</td>\n",
              "    </tr>\n",
              "    <tr>\n",
              "      <th>4</th>\n",
              "      <td>28</td>\n",
              "      <td>Private</td>\n",
              "      <td>338409</td>\n",
              "      <td>Bachelors</td>\n",
              "      <td>13</td>\n",
              "      <td>Married-civ-spouse</td>\n",
              "      <td>Prof-specialty</td>\n",
              "      <td>Wife</td>\n",
              "      <td>Black</td>\n",
              "      <td>Female</td>\n",
              "      <td>0</td>\n",
              "      <td>0</td>\n",
              "      <td>40</td>\n",
              "      <td>Cuba</td>\n",
              "      <td>&lt;=50K</td>\n",
              "    </tr>\n",
              "  </tbody>\n",
              "</table>\n",
              "</div>"
            ],
            "text/plain": [
              "   age          workclass  fnlwgt  ... hours-per-week         country  salary\n",
              "0   39          State-gov   77516  ...             40   United-States   <=50K\n",
              "1   50   Self-emp-not-inc   83311  ...             13   United-States   <=50K\n",
              "2   38            Private  215646  ...             40   United-States   <=50K\n",
              "3   53            Private  234721  ...             40   United-States   <=50K\n",
              "4   28            Private  338409  ...             40            Cuba   <=50K\n",
              "\n",
              "[5 rows x 15 columns]"
            ]
          },
          "metadata": {
            "tags": []
          },
          "execution_count": 74
        }
      ]
    },
    {
      "cell_type": "code",
      "metadata": {
        "id": "_M4gt4IWcPLO",
        "colab_type": "code",
        "outputId": "93c4596d-5c5b-43f3-8b1c-cd22232ba111",
        "colab": {
          "base_uri": "https://localhost:8080/",
          "height": 237
        }
      },
      "source": [
        "df.corr()"
      ],
      "execution_count": 0,
      "outputs": [
        {
          "output_type": "execute_result",
          "data": {
            "text/html": [
              "<div>\n",
              "<style scoped>\n",
              "    .dataframe tbody tr th:only-of-type {\n",
              "        vertical-align: middle;\n",
              "    }\n",
              "\n",
              "    .dataframe tbody tr th {\n",
              "        vertical-align: top;\n",
              "    }\n",
              "\n",
              "    .dataframe thead th {\n",
              "        text-align: right;\n",
              "    }\n",
              "</style>\n",
              "<table border=\"1\" class=\"dataframe\">\n",
              "  <thead>\n",
              "    <tr style=\"text-align: right;\">\n",
              "      <th></th>\n",
              "      <th>age</th>\n",
              "      <th>fnlwgt</th>\n",
              "      <th>education-num</th>\n",
              "      <th>capital-gain</th>\n",
              "      <th>capital-loss</th>\n",
              "      <th>hours-per-week</th>\n",
              "    </tr>\n",
              "  </thead>\n",
              "  <tbody>\n",
              "    <tr>\n",
              "      <th>age</th>\n",
              "      <td>1.000000</td>\n",
              "      <td>-0.076646</td>\n",
              "      <td>0.036527</td>\n",
              "      <td>0.077674</td>\n",
              "      <td>0.057775</td>\n",
              "      <td>0.068756</td>\n",
              "    </tr>\n",
              "    <tr>\n",
              "      <th>fnlwgt</th>\n",
              "      <td>-0.076646</td>\n",
              "      <td>1.000000</td>\n",
              "      <td>-0.043195</td>\n",
              "      <td>0.000432</td>\n",
              "      <td>-0.010252</td>\n",
              "      <td>-0.018768</td>\n",
              "    </tr>\n",
              "    <tr>\n",
              "      <th>education-num</th>\n",
              "      <td>0.036527</td>\n",
              "      <td>-0.043195</td>\n",
              "      <td>1.000000</td>\n",
              "      <td>0.122630</td>\n",
              "      <td>0.079923</td>\n",
              "      <td>0.148123</td>\n",
              "    </tr>\n",
              "    <tr>\n",
              "      <th>capital-gain</th>\n",
              "      <td>0.077674</td>\n",
              "      <td>0.000432</td>\n",
              "      <td>0.122630</td>\n",
              "      <td>1.000000</td>\n",
              "      <td>-0.031615</td>\n",
              "      <td>0.078409</td>\n",
              "    </tr>\n",
              "    <tr>\n",
              "      <th>capital-loss</th>\n",
              "      <td>0.057775</td>\n",
              "      <td>-0.010252</td>\n",
              "      <td>0.079923</td>\n",
              "      <td>-0.031615</td>\n",
              "      <td>1.000000</td>\n",
              "      <td>0.054256</td>\n",
              "    </tr>\n",
              "    <tr>\n",
              "      <th>hours-per-week</th>\n",
              "      <td>0.068756</td>\n",
              "      <td>-0.018768</td>\n",
              "      <td>0.148123</td>\n",
              "      <td>0.078409</td>\n",
              "      <td>0.054256</td>\n",
              "      <td>1.000000</td>\n",
              "    </tr>\n",
              "  </tbody>\n",
              "</table>\n",
              "</div>"
            ],
            "text/plain": [
              "                     age    fnlwgt  ...  capital-loss  hours-per-week\n",
              "age             1.000000 -0.076646  ...      0.057775        0.068756\n",
              "fnlwgt         -0.076646  1.000000  ...     -0.010252       -0.018768\n",
              "education-num   0.036527 -0.043195  ...      0.079923        0.148123\n",
              "capital-gain    0.077674  0.000432  ...     -0.031615        0.078409\n",
              "capital-loss    0.057775 -0.010252  ...      1.000000        0.054256\n",
              "hours-per-week  0.068756 -0.018768  ...      0.054256        1.000000\n",
              "\n",
              "[6 rows x 6 columns]"
            ]
          },
          "metadata": {
            "tags": []
          },
          "execution_count": 75
        }
      ]
    },
    {
      "cell_type": "code",
      "metadata": {
        "id": "I4LPJoOVddDa",
        "colab_type": "code",
        "outputId": "66973f35-5f6c-4a3a-85d0-3069210a7fc6",
        "colab": {
          "base_uri": "https://localhost:8080/",
          "height": 287
        }
      },
      "source": [
        "df['hours-per-week'].hist()"
      ],
      "execution_count": 0,
      "outputs": [
        {
          "output_type": "execute_result",
          "data": {
            "text/plain": [
              "<matplotlib.axes._subplots.AxesSubplot at 0x7fa262441550>"
            ]
          },
          "metadata": {
            "tags": []
          },
          "execution_count": 77
        },
        {
          "output_type": "display_data",
          "data": {
            "image/png": "[encoded data removed]",
            "text/plain": [
              "<Figure size 432x288 with 1 Axes>"
            ]
          },
          "metadata": {
            "tags": []
          }
        }
      ]
    },
    {
      "cell_type": "code",
      "metadata": {
        "id": "0KPS3US-dmOf",
        "colab_type": "code",
        "colab": {}
      },
      "source": [
        ""
      ],
      "execution_count": 0,
      "outputs": []
    },
    {
      "cell_type": "code",
      "metadata": {
        "id": "nI-m7Q7WdSm0",
        "colab_type": "code",
        "outputId": "4e77ab56-17e7-4223-d014-e6bef87fde52",
        "colab": {
          "base_uri": "https://localhost:8080/",
          "height": 175
        }
      },
      "source": [
        "df.describe(exclude='number')\n",
        "#is sex independent to number hours worked (hours-per-week)?"
      ],
      "execution_count": 0,
      "outputs": [
        {
          "output_type": "execute_result",
          "data": {
            "text/html": [
              "<div>\n",
              "<style scoped>\n",
              "    .dataframe tbody tr th:only-of-type {\n",
              "        vertical-align: middle;\n",
              "    }\n",
              "\n",
              "    .dataframe tbody tr th {\n",
              "        vertical-align: top;\n",
              "    }\n",
              "\n",
              "    .dataframe thead th {\n",
              "        text-align: right;\n",
              "    }\n",
              "</style>\n",
              "<table border=\"1\" class=\"dataframe\">\n",
              "  <thead>\n",
              "    <tr style=\"text-align: right;\">\n",
              "      <th></th>\n",
              "      <th>workclass</th>\n",
              "      <th>education</th>\n",
              "      <th>marital-status</th>\n",
              "      <th>occupation</th>\n",
              "      <th>relationship</th>\n",
              "      <th>race</th>\n",
              "      <th>sex</th>\n",
              "      <th>country</th>\n",
              "      <th>salary</th>\n",
              "    </tr>\n",
              "  </thead>\n",
              "  <tbody>\n",
              "    <tr>\n",
              "      <th>count</th>\n",
              "      <td>30725</td>\n",
              "      <td>32561</td>\n",
              "      <td>32561</td>\n",
              "      <td>30718</td>\n",
              "      <td>32561</td>\n",
              "      <td>32561</td>\n",
              "      <td>32561</td>\n",
              "      <td>31978</td>\n",
              "      <td>32561</td>\n",
              "    </tr>\n",
              "    <tr>\n",
              "      <th>unique</th>\n",
              "      <td>8</td>\n",
              "      <td>16</td>\n",
              "      <td>7</td>\n",
              "      <td>14</td>\n",
              "      <td>6</td>\n",
              "      <td>5</td>\n",
              "      <td>2</td>\n",
              "      <td>41</td>\n",
              "      <td>2</td>\n",
              "    </tr>\n",
              "    <tr>\n",
              "      <th>top</th>\n",
              "      <td>Private</td>\n",
              "      <td>HS-grad</td>\n",
              "      <td>Married-civ-spouse</td>\n",
              "      <td>Prof-specialty</td>\n",
              "      <td>Husband</td>\n",
              "      <td>White</td>\n",
              "      <td>Male</td>\n",
              "      <td>United-States</td>\n",
              "      <td>&lt;=50K</td>\n",
              "    </tr>\n",
              "    <tr>\n",
              "      <th>freq</th>\n",
              "      <td>22696</td>\n",
              "      <td>10501</td>\n",
              "      <td>14976</td>\n",
              "      <td>4140</td>\n",
              "      <td>13193</td>\n",
              "      <td>27816</td>\n",
              "      <td>21790</td>\n",
              "      <td>29170</td>\n",
              "      <td>24720</td>\n",
              "    </tr>\n",
              "  </tbody>\n",
              "</table>\n",
              "</div>"
            ],
            "text/plain": [
              "       workclass education       marital-status  ...    sex         country  salary\n",
              "count      30725     32561                32561  ...  32561           31978   32561\n",
              "unique         8        16                    7  ...      2              41       2\n",
              "top      Private   HS-grad   Married-civ-spouse  ...   Male   United-States   <=50K\n",
              "freq       22696     10501                14976  ...  21790           29170   24720\n",
              "\n",
              "[4 rows x 9 columns]"
            ]
          },
          "metadata": {
            "tags": []
          },
          "execution_count": 76
        }
      ]
    },
    {
      "cell_type": "code",
      "metadata": {
        "id": "uZ8Ktsbtdob9",
        "colab_type": "code",
        "outputId": "4c1f81d3-1595-4ee3-b822-1e9e8efa222f",
        "colab": {
          "base_uri": "https://localhost:8080/",
          "height": 144
        }
      },
      "source": [
        "cut_points = [0, 9, 19, 29, 39, 49, 300]\n",
        "label_names = ['0-9', '10-19', '20-29', '30-39', '40-49', '50+']\n",
        "df['hours_per_week_categories'] = pd.cut(df['hours-per-week'], cut_points, labels=label_names)\n",
        "df['hours_per_week_categories'].value_counts()\n",
        "\n",
        "#Is gender and number of hours worked independent from each other?"
      ],
      "execution_count": 0,
      "outputs": [
        {
          "output_type": "execute_result",
          "data": {
            "text/plain": [
              "40-49    18336\n",
              "50+       6462\n",
              "30-39     3667\n",
              "20-29     2392\n",
              "10-19     1246\n",
              "0-9        458\n",
              "Name: hours_per_week_categories, dtype: int64"
            ]
          },
          "metadata": {
            "tags": []
          },
          "execution_count": 79
        }
      ]
    },
    {
      "cell_type": "code",
      "metadata": {
        "id": "mQWThQ4YelCa",
        "colab_type": "code",
        "outputId": "cd0f8c8b-d040-40ca-857e-d09027fec0af",
        "colab": {
          "base_uri": "https://localhost:8080/",
          "height": 72
        }
      },
      "source": [
        "df.sex.value_counts()"
      ],
      "execution_count": 0,
      "outputs": [
        {
          "output_type": "execute_result",
          "data": {
            "text/plain": [
              " Male      21790\n",
              " Female    10771\n",
              "Name: sex, dtype: int64"
            ]
          },
          "metadata": {
            "tags": []
          },
          "execution_count": 81
        }
      ]
    },
    {
      "cell_type": "code",
      "metadata": {
        "id": "rdrELCfLencB",
        "colab_type": "code",
        "outputId": "5a76f2c7-d23c-44f1-e166-2fdd5c0e6200",
        "colab": {
          "base_uri": "https://localhost:8080/",
          "height": 175
        }
      },
      "source": [
        "df = df.sort_values(by='hours_per_week_categories')\n",
        "contingency_table = pd.crosstab(df['sex'], df['hours_per_week_categories'], margins=True)\n",
        "contingency_table"
      ],
      "execution_count": 0,
      "outputs": [
        {
          "output_type": "execute_result",
          "data": {
            "text/html": [
              "<div>\n",
              "<style scoped>\n",
              "    .dataframe tbody tr th:only-of-type {\n",
              "        vertical-align: middle;\n",
              "    }\n",
              "\n",
              "    .dataframe tbody tr th {\n",
              "        vertical-align: top;\n",
              "    }\n",
              "\n",
              "    .dataframe thead th {\n",
              "        text-align: right;\n",
              "    }\n",
              "</style>\n",
              "<table border=\"1\" class=\"dataframe\">\n",
              "  <thead>\n",
              "    <tr style=\"text-align: right;\">\n",
              "      <th>hours_per_week_categories</th>\n",
              "      <th>0-9</th>\n",
              "      <th>10-19</th>\n",
              "      <th>20-29</th>\n",
              "      <th>30-39</th>\n",
              "      <th>40-49</th>\n",
              "      <th>50+</th>\n",
              "      <th>All</th>\n",
              "    </tr>\n",
              "    <tr>\n",
              "      <th>sex</th>\n",
              "      <th></th>\n",
              "      <th></th>\n",
              "      <th></th>\n",
              "      <th></th>\n",
              "      <th></th>\n",
              "      <th></th>\n",
              "      <th></th>\n",
              "    </tr>\n",
              "  </thead>\n",
              "  <tbody>\n",
              "    <tr>\n",
              "      <th>Female</th>\n",
              "      <td>235</td>\n",
              "      <td>671</td>\n",
              "      <td>1287</td>\n",
              "      <td>1914</td>\n",
              "      <td>5636</td>\n",
              "      <td>1028</td>\n",
              "      <td>10771</td>\n",
              "    </tr>\n",
              "    <tr>\n",
              "      <th>Male</th>\n",
              "      <td>223</td>\n",
              "      <td>575</td>\n",
              "      <td>1105</td>\n",
              "      <td>1753</td>\n",
              "      <td>12700</td>\n",
              "      <td>5434</td>\n",
              "      <td>21790</td>\n",
              "    </tr>\n",
              "    <tr>\n",
              "      <th>All</th>\n",
              "      <td>458</td>\n",
              "      <td>1246</td>\n",
              "      <td>2392</td>\n",
              "      <td>3667</td>\n",
              "      <td>18336</td>\n",
              "      <td>6462</td>\n",
              "      <td>32561</td>\n",
              "    </tr>\n",
              "  </tbody>\n",
              "</table>\n",
              "</div>"
            ],
            "text/plain": [
              "hours_per_week_categories  0-9  10-19  20-29  30-39  40-49   50+    All\n",
              "sex                                                                    \n",
              " Female                    235    671   1287   1914   5636  1028  10771\n",
              " Male                      223    575   1105   1753  12700  5434  21790\n",
              "All                        458   1246   2392   3667  18336  6462  32561"
            ]
          },
          "metadata": {
            "tags": []
          },
          "execution_count": 86
        }
      ]
    },
    {
      "cell_type": "code",
      "metadata": {
        "id": "6CojptRLfaxp",
        "colab_type": "code",
        "colab": {}
      },
      "source": [
        ""
      ],
      "execution_count": 0,
      "outputs": []
    },
    {
      "cell_type": "markdown",
      "metadata": {
        "id": "uyw_hby7-OHF",
        "colab_type": "text"
      },
      "source": [
        "## Expected Value Calculation\n",
        "\\begin{align}\n",
        "expected_{i,j} =\\frac{(row_{i} \\text{total})(column_{j} \\text{total}) }{(\\text{total observations})}  \n",
        "\\end{align}"
      ]
    },
    {
      "cell_type": "code",
      "metadata": {
        "id": "C11nWaal-acY",
        "colab_type": "code",
        "outputId": "839bea06-9cbf-4406-e938-569f8020bca9",
        "colab": {
          "base_uri": "https://localhost:8080/",
          "height": 53
        }
      },
      "source": [
        "row_sums = contingency_table.iloc[0:2, 6].values\n",
        "col_sums = contingency_table.iloc[2, 0:6].values\n",
        "\n",
        "print(row_sums)\n",
        "print(col_sums)"
      ],
      "execution_count": 0,
      "outputs": [
        {
          "output_type": "stream",
          "text": [
            "[10771 21790]\n",
            "[  458  1246  2392  3667 18336  6462]\n"
          ],
          "name": "stdout"
        }
      ]
    },
    {
      "cell_type": "code",
      "metadata": {
        "id": "B_5hm6BPgY3A",
        "colab_type": "code",
        "outputId": "e934dcc9-cc43-4ac0-dc9f-d12be110870b",
        "colab": {
          "base_uri": "https://localhost:8080/",
          "height": 35
        }
      },
      "source": [
        "total = contingency_table.loc['All', 'All']\n",
        "total"
      ],
      "execution_count": 0,
      "outputs": [
        {
          "output_type": "execute_result",
          "data": {
            "text/plain": [
              "32561"
            ]
          },
          "metadata": {
            "tags": []
          },
          "execution_count": 91
        }
      ]
    },
    {
      "cell_type": "code",
      "metadata": {
        "id": "9xHkF1vBguSz",
        "colab_type": "code",
        "outputId": "80304f91-346c-4049-d200-f594690e9f8d",
        "colab": {
          "base_uri": "https://localhost:8080/",
          "height": 108
        }
      },
      "source": [
        "expected = []\n",
        "\n",
        "for i in range(len(row_sums)):\n",
        "    expected_row = []\n",
        "    for column in col_sums:\n",
        "        expected_val = column*row_sums[i]/total\n",
        "        expected_row.append(expected_val)\n",
        "    expected.append(expected_row)\n",
        "    \n",
        "expected = np.array(expected)\n",
        "print(expected.shape)\n",
        "print(expected)\n",
        "\n",
        "#for females 0-9 we expect 151, males expect 306, for females 50+ expected is 2137, males is 4324"
      ],
      "execution_count": 0,
      "outputs": [
        {
          "output_type": "stream",
          "text": [
            "(2, 6)\n",
            "[[  151.50388502   412.16995793   791.26046497  1213.02346365\n",
            "   6065.44811277  2137.59411566]\n",
            " [  306.49611498   833.83004207  1600.73953503  2453.97653635\n",
            "  12270.55188723  4324.40588434]]\n"
          ],
          "name": "stdout"
        }
      ]
    },
    {
      "cell_type": "code",
      "metadata": {
        "id": "0QHEGOPkhPzl",
        "colab_type": "code",
        "outputId": "cc2ae7f1-f0d5-4e19-f10e-89ae047b121e",
        "colab": {
          "base_uri": "https://localhost:8080/",
          "height": 175
        }
      },
      "source": [
        "contingency_table"
      ],
      "execution_count": 0,
      "outputs": [
        {
          "output_type": "execute_result",
          "data": {
            "text/html": [
              "<div>\n",
              "<style scoped>\n",
              "    .dataframe tbody tr th:only-of-type {\n",
              "        vertical-align: middle;\n",
              "    }\n",
              "\n",
              "    .dataframe tbody tr th {\n",
              "        vertical-align: top;\n",
              "    }\n",
              "\n",
              "    .dataframe thead th {\n",
              "        text-align: right;\n",
              "    }\n",
              "</style>\n",
              "<table border=\"1\" class=\"dataframe\">\n",
              "  <thead>\n",
              "    <tr style=\"text-align: right;\">\n",
              "      <th>hours_per_week_categories</th>\n",
              "      <th>0-9</th>\n",
              "      <th>10-19</th>\n",
              "      <th>20-29</th>\n",
              "      <th>30-39</th>\n",
              "      <th>40-49</th>\n",
              "      <th>50+</th>\n",
              "      <th>All</th>\n",
              "    </tr>\n",
              "    <tr>\n",
              "      <th>sex</th>\n",
              "      <th></th>\n",
              "      <th></th>\n",
              "      <th></th>\n",
              "      <th></th>\n",
              "      <th></th>\n",
              "      <th></th>\n",
              "      <th></th>\n",
              "    </tr>\n",
              "  </thead>\n",
              "  <tbody>\n",
              "    <tr>\n",
              "      <th>Female</th>\n",
              "      <td>235</td>\n",
              "      <td>671</td>\n",
              "      <td>1287</td>\n",
              "      <td>1914</td>\n",
              "      <td>5636</td>\n",
              "      <td>1028</td>\n",
              "      <td>10771</td>\n",
              "    </tr>\n",
              "    <tr>\n",
              "      <th>Male</th>\n",
              "      <td>223</td>\n",
              "      <td>575</td>\n",
              "      <td>1105</td>\n",
              "      <td>1753</td>\n",
              "      <td>12700</td>\n",
              "      <td>5434</td>\n",
              "      <td>21790</td>\n",
              "    </tr>\n",
              "    <tr>\n",
              "      <th>All</th>\n",
              "      <td>458</td>\n",
              "      <td>1246</td>\n",
              "      <td>2392</td>\n",
              "      <td>3667</td>\n",
              "      <td>18336</td>\n",
              "      <td>6462</td>\n",
              "      <td>32561</td>\n",
              "    </tr>\n",
              "  </tbody>\n",
              "</table>\n",
              "</div>"
            ],
            "text/plain": [
              "hours_per_week_categories  0-9  10-19  20-29  30-39  40-49   50+    All\n",
              "sex                                                                    \n",
              " Female                    235    671   1287   1914   5636  1028  10771\n",
              " Male                      223    575   1105   1753  12700  5434  21790\n",
              "All                        458   1246   2392   3667  18336  6462  32561"
            ]
          },
          "metadata": {
            "tags": []
          },
          "execution_count": 93
        }
      ]
    },
    {
      "cell_type": "markdown",
      "metadata": {
        "id": "R6AWydhG_P4s",
        "colab_type": "text"
      },
      "source": [
        "## Chi-Squared Statistic with Numpy\n",
        "\n",
        "\\begin{align}\n",
        "\\chi^2 = \\sum \\frac{(observed_{i}-expected_{i})^2}{(expected_{i})}\n",
        "\\end{align}\n",
        "\n",
        "For the $observed$ values we will just use a version of our contingency table without the margins as a numpy array. In this way, if our observed values array and our expected values array are the same shape, then we can subtract them and divide them directly which makes the calculations a lot cleaner. No for loops!"
      ]
    },
    {
      "cell_type": "code",
      "metadata": {
        "id": "o7YgaNij_cSo",
        "colab_type": "code",
        "outputId": "3f94e9ca-07f0-4f28-8eab-ad59a489557c",
        "colab": {
          "base_uri": "https://localhost:8080/",
          "height": 72
        }
      },
      "source": [
        "observed = pd.crosstab(df['sex'], df['hours_per_week_categories']).values\n",
        "print(observed.shape)\n",
        "observed"
      ],
      "execution_count": 0,
      "outputs": [
        {
          "output_type": "stream",
          "text": [
            "(2, 6)\n"
          ],
          "name": "stdout"
        },
        {
          "output_type": "execute_result",
          "data": {
            "text/plain": [
              "array([[  235,   671,  1287,  1914,  5636,  1028],\n",
              "       [  223,   575,  1105,  1753, 12700,  5434]])"
            ]
          },
          "metadata": {
            "tags": []
          },
          "execution_count": 94
        }
      ]
    },
    {
      "cell_type": "code",
      "metadata": {
        "id": "sYQMORuHhpk6",
        "colab_type": "code",
        "outputId": "cc564bfe-97f3-4ab5-f628-d5b70d873293",
        "colab": {
          "base_uri": "https://localhost:8080/",
          "height": 35
        }
      },
      "source": [
        "chi_square = ((observed - expected)**2/(expected)).sum()\n",
        "chi_square"
      ],
      "execution_count": 0,
      "outputs": [
        {
          "output_type": "execute_result",
          "data": {
            "text/plain": [
              "2287.190943926107"
            ]
          },
          "metadata": {
            "tags": []
          },
          "execution_count": 95
        }
      ]
    },
    {
      "cell_type": "markdown",
      "metadata": {
        "id": "7Igz-XHcVbW3",
        "colab_type": "text"
      },
      "source": [
        "## Run a $\\chi^{2}$ Test using Scipy"
      ]
    },
    {
      "cell_type": "code",
      "metadata": {
        "id": "kazgId8L9tYZ",
        "colab_type": "code",
        "outputId": "7fbb0590-a384-415b-c802-e95ba262392c",
        "colab": {
          "base_uri": "https://localhost:8080/",
          "height": 90
        }
      },
      "source": [
        "chi_squared, p_value, dof, expected = stats.chi2_contingency(observed)\n",
        "\n",
        "print(chi_squared, p_value, dof, expected)"
      ],
      "execution_count": 0,
      "outputs": [
        {
          "output_type": "stream",
          "text": [
            "2287.190943926107 0.0 5 [[  151.50388502   412.16995793   791.26046497  1213.02346365\n",
            "   6065.44811277  2137.59411566]\n",
            " [  306.49611498   833.83004207  1600.73953503  2453.97653635\n",
            "  12270.55188723  4324.40588434]]\n"
          ],
          "name": "stdout"
        }
      ]
    },
    {
      "cell_type": "markdown",
      "metadata": {
        "id": "TRtBEP3rA307",
        "colab_type": "text"
      },
      "source": [
        "Null Hypothesis: Hours worked per week bins is **independent** of sex. \n",
        "\n",
        "Due to a p-value of 0, we REJECT the null hypothesis that hours worked per week and sex are independent, and conclude that there is an association between hours worked per week and sex. "
      ]
    },
    {
      "cell_type": "markdown",
      "metadata": {
        "id": "11OzdxWTM7UR",
        "colab_type": "text"
      },
      "source": [
        "## Assignment - Build a confidence interval\n",
        "\n",
        "A confidence interval refers to a neighborhood around some point estimate, the size of which is determined by the desired p-value. For instance, we might say that 52% of Americans prefer tacos to burritos, with a 95% confidence interval of +/- 5%.\n",
        "\n",
        "52% (0.52) is the point estimate, and +/- 5% (the interval $[0.47, 0.57]$) is the confidence interval. \"95% confidence\" means a p-value $\\leq 1 - 0.95 = 0.05$.\n",
        "\n",
        "In this case, the confidence interval includes $0.5$ - which is the natural null hypothesis (that half of Americans prefer tacos and half burritos, thus there is no clear favorite). So in this case, we could use the confidence interval to report that we've failed to reject the null hypothesis.\n",
        "\n",
        "But providing the full analysis with a confidence interval, including a graphical representation of it, can be a helpful and powerful way to tell your story. Done well, it is also more intuitive to a layperson than simply saying \"fail to reject the null hypothesis\" - it shows that in fact the data does *not* give a single clear result (the point estimate) but a whole range of possibilities.\n",
        "\n",
        "How is a confidence interval built, and how should it be interpreted? It does *not* mean that 95% of the data lies in that interval - instead, the frequentist interpretation is \"if we were to repeat this experiment 100 times, we would expect the average result to lie in this interval ~95 times.\"\n",
        "\n",
        "For a 95% confidence interval and a normal(-ish) distribution, you can simply remember that +/-2 standard deviations contains 95% of the probability mass, and so the 95% confidence interval based on a given sample is centered at the mean (point estimate) and has a range of +/- 2 (or technically 1.96) standard deviations.\n",
        "\n",
        "Different distributions/assumptions (90% confidence, 99% confidence) will require different math, but the overall process and interpretation (with a frequentist approach) will be the same.\n",
        "\n",
        "Your assignment - using the data from the prior module ([congressional voting records](https://archive.ics.uci.edu/ml/datasets/Congressional+Voting+Records)):\n",
        "\n",
        "\n",
        "### Confidence Intervals:\n",
        "1. Generate and numerically represent a confidence interval\n",
        "2. Graphically (with a plot) represent the confidence interval\n",
        "3. Interpret the confidence interval - what does it tell you about the data and its distribution?\n",
        "\n",
        "### Chi-squared tests:\n",
        "4. Take a dataset that we have used in the past in class that has **categorical** variables. Pick two of those categorical variables and run a chi-squared tests on that data\n",
        "  - By hand using Numpy\n",
        "  - In a single line using Scipy\n",
        "\n",
        "Stretch goals:\n",
        "\n",
        "1. Write a summary of your findings, mixing prose and math/code/results. *Note* - yes, this is by definition a political topic. It is challenging but important to keep your writing voice *neutral* and stick to the facts of the data. Data science often involves considering controversial issues, so it's important to be sensitive about them (especially if you want to publish).\n",
        "2. Apply the techniques you learned today to your project data or other data of your choice, and write/discuss your findings here.\n",
        "3. Refactor your code so it is elegant, readable, and can be easily run for all issues."
      ]
    },
    {
      "cell_type": "code",
      "metadata": {
        "id": "9-fIvKh9JNJM",
        "colab_type": "code",
        "colab": {}
      },
      "source": [
        "import pandas as pd\n",
        "import numpy as np\n",
        "import seaborn as sns\n",
        "import matplotlib.pyplot as plt\n",
        "from scipy.stats import t, ttest_1samp, ttest_ind, ttest_ind_from_stats, ttest_rel, chisquare, normaltest\n",
        "import scipy.stats as stats"
      ],
      "execution_count": 0,
      "outputs": []
    },
    {
      "cell_type": "code",
      "metadata": {
        "id": "Ckcr4A4FM7cs",
        "colab_type": "code",
        "colab": {}
      },
      "source": [
        "# TODO - your code!\n",
        "#Load Data\n",
        "!wget https://archive.ics.uci.edu/ml/machine-learning-databases/voting-records/house-votes-84.data"
      ],
      "execution_count": 0,
      "outputs": []
    },
    {
      "cell_type": "code",
      "metadata": {
        "id": "-BhpqRixJFkG",
        "colab_type": "code",
        "colab": {
          "base_uri": "https://localhost:8080/",
          "height": 653
        },
        "outputId": "98240ec5-9202-40ad-c839-6ce144894da1"
      },
      "source": [
        "#Read/View Data\n",
        "col_names = [\n",
        "    'Party', \n",
        "    'handicapped-infants',\n",
        " 'water-project-cost-sharing',\n",
        " 'budget-resolution',\n",
        "'physician-fee-freeze',\n",
        " 'el-salvador-aid',\n",
        " 'religious-groups-in-schools',\n",
        " 'anti-satellite-test-ban',\n",
        " 'aid-to-contras',\n",
        " 'mx-missile',\n",
        " 'immigration',\n",
        " 'synfuels-corporation',\n",
        " 'education-spending',\n",
        " 'right-to-sue',\n",
        " 'crime',\n",
        " 'duty-free-exports',\n",
        " 'export-admin-S-Africa',\n",
        "]\n",
        "\n",
        "data = pd.read_csv(\"house-votes-84.data\", header=None, names=col_names)\n",
        "pd.options.display.max_columns = None\n",
        "vote_map = {'y': 1, 'n': 0, '?': 0.5}\n",
        "data = data.replace(vote_map)\n",
        "\n",
        "\n",
        "print(data.shape)\n",
        "print(data.head())"
      ],
      "execution_count": 18,
      "outputs": [
        {
          "output_type": "stream",
          "text": [
            "(435, 17)\n",
            "        Party  handicapped-infants  water-project-cost-sharing  \\\n",
            "0  republican                  0.0                         1.0   \n",
            "1  republican                  0.0                         1.0   \n",
            "2    democrat                  0.5                         1.0   \n",
            "3    democrat                  0.0                         1.0   \n",
            "4    democrat                  1.0                         1.0   \n",
            "\n",
            "   budget-resolution  physician-fee-freeze  el-salvador-aid  \\\n",
            "0                0.0                   1.0              1.0   \n",
            "1                0.0                   1.0              1.0   \n",
            "2                1.0                   0.5              1.0   \n",
            "3                1.0                   0.0              0.5   \n",
            "4                1.0                   0.0              1.0   \n",
            "\n",
            "   religious-groups-in-schools  anti-satellite-test-ban  aid-to-contras  \\\n",
            "0                          1.0                      0.0             0.0   \n",
            "1                          1.0                      0.0             0.0   \n",
            "2                          1.0                      0.0             0.0   \n",
            "3                          1.0                      0.0             0.0   \n",
            "4                          1.0                      0.0             0.0   \n",
            "\n",
            "   mx-missile  immigration  synfuels-corporation  education-spending  \\\n",
            "0         0.0          1.0                   0.5                 1.0   \n",
            "1         0.0          0.0                   0.0                 1.0   \n",
            "2         0.0          0.0                   1.0                 0.0   \n",
            "3         0.0          0.0                   1.0                 0.0   \n",
            "4         0.0          0.0                   1.0                 0.5   \n",
            "\n",
            "   right-to-sue  crime  duty-free-exports  export-admin-S-Africa  \n",
            "0           1.0    1.0                0.0                    1.0  \n",
            "1           1.0    1.0                0.0                    0.5  \n",
            "2           1.0    1.0                0.0                    0.0  \n",
            "3           1.0    0.0                0.0                    1.0  \n",
            "4           1.0    1.0                1.0                    1.0  \n"
          ],
          "name": "stdout"
        }
      ]
    },
    {
      "cell_type": "code",
      "metadata": {
        "id": "G2_0liCRJFpv",
        "colab_type": "code",
        "colab": {}
      },
      "source": [
        "data.isna().sum()"
      ],
      "execution_count": 0,
      "outputs": []
    },
    {
      "cell_type": "code",
      "metadata": {
        "id": "kZIfJBeKJFt_",
        "colab_type": "code",
        "colab": {}
      },
      "source": [
        "dems = data[data['Party'] == 'democrat']\n",
        "reps = data[data['Party'] == 'republican']\n",
        "bills = data.columns[1:]"
      ],
      "execution_count": 0,
      "outputs": []
    },
    {
      "cell_type": "code",
      "metadata": {
        "id": "3XOD_noAJFxw",
        "colab_type": "code",
        "colab": {}
      },
      "source": [
        "'''Confidence Intervals:\n",
        "\n",
        "    Generate and numerically represent a confidence interval\n",
        "    Graphically (with a plot) represent the confidence interval\n",
        "    Interpret the confidence interval - what does it tell you about the data and its distribution?\n",
        "\n",
        "'''\n",
        "\n"
      ],
      "execution_count": 0,
      "outputs": []
    },
    {
      "cell_type": "code",
      "metadata": {
        "id": "cpm3iu9ZL5D7",
        "colab_type": "code",
        "colab": {
          "base_uri": "https://localhost:8080/",
          "height": 126
        },
        "outputId": "a2d15f24-54f0-4227-f637-702cd0374249"
      },
      "source": [
        "budget = data['budget-resolution']    #Get the population\n",
        "\n",
        "# Take a random sample and get sample mean\n",
        "sample = budget.sample(200)    \n",
        "sample_mean = np.mean(sample)\n",
        "\n",
        "#store sample size in var\n",
        "sample_size = len(sample)\n",
        "print(f'Sample Size is: {sample_size}')\n",
        "\n",
        "#confirm ideal CI (.975 for 95%)\n",
        "t = stats.t.ppf(0.975, sample_size-1) \n",
        "\n",
        "#Get Standard Deviation\n",
        "sample_std = np.std(sample)\n",
        "print(f'Sample standard deviation is: {sample_std}')\n",
        "\n",
        "#find standard error\n",
        "sample_standard_error = sample_std/np.sqrt(sample_size)\n",
        "print(f'Sample std error is: {sample_standard_error}')\n",
        "\n",
        "\n",
        "confidence_interval = (sample_mean - t*sample_standard_error, sample_mean + t*sample_standard_error) #(lower bound, upper bound)\n",
        "margin_of_error = t*sample_standard_error\n",
        "print(\"Sample Mean: \", sample_mean)\n",
        "print(\"Margin of Error: \", margin_of_error)\n",
        "print(\"Confidence Interval: \", confidence_interval)  #meaning if you ran the experiment 100 times, 95% of them would fall within the bounds of the CI\n",
        "\n",
        "\n"
      ],
      "execution_count": 29,
      "outputs": [
        {
          "output_type": "stream",
          "text": [
            "Sample Size is: 200\n",
            "Sample standard deviation is: 0.4850193295117214\n",
            "Sample std error is: 0.03429604569042907\n",
            "Sample Mean:  0.5775\n",
            "Margin of Error:  0.06763031174111787\n",
            "Confidence Interval:  (0.5098696882588821, 0.6451303117411179)\n"
          ],
          "name": "stdout"
        }
      ]
    },
    {
      "cell_type": "code",
      "metadata": {
        "id": "JiDj_BLfNja4",
        "colab_type": "code",
        "colab": {
          "base_uri": "https://localhost:8080/",
          "height": 287
        },
        "outputId": "6a0f0ce0-fae2-484d-ca96-842795d64bbd"
      },
      "source": [
        "import seaborn as sns\n",
        "\n",
        "sns.kdeplot(sample)\n",
        "plt.axvline(x=sample_mean, color='k')\n",
        "plt.axvline(x=confidence_interval[0], color='r')\n",
        "plt.axvline(x=confidence_interval[1], color='r')\n"
      ],
      "execution_count": 30,
      "outputs": [
        {
          "output_type": "execute_result",
          "data": {
            "text/plain": [
              "<matplotlib.lines.Line2D at 0x7f3e45e7f438>"
            ]
          },
          "metadata": {
            "tags": []
          },
          "execution_count": 30
        },
        {
          "output_type": "display_data",
          "data": {
            "image/png": "[encoded data removed]",
            "text/plain": [
              "<Figure size 432x288 with 1 Axes>"
            ]
          },
          "metadata": {
            "tags": []
          }
        }
      ]
    },
    {
      "cell_type": "markdown",
      "metadata": {
        "id": "lM72P4T7Nliz",
        "colab_type": "text"
      },
      "source": [
        "## Build and Interpret a Confidence Interval\n",
        "\n",
        "<img src=\"https://github.com/ryanallredblog/ryanallredblog.github.io/blob/master/img/Confidence_Interval.png?raw=true\" width=400>\n"
      ]
    },
    {
      "cell_type": "code",
      "metadata": {
        "id": "Acw0gZvQSgVF",
        "colab_type": "code",
        "colab": {}
      },
      "source": [
        "'''\n",
        "Chi-squared tests:\n",
        "\n",
        "    Take a dataset that we have used in the past in class that has categorical variables. Pick two of those categorical variables and run a chi-squared tests on that data\n",
        "        By hand using Numpy\n",
        "        In a single line using Scipy'''"
      ],
      "execution_count": 0,
      "outputs": []
    },
    {
      "cell_type": "markdown",
      "metadata": {
        "id": "nyJ3ySr7R2k9",
        "colab_type": "text"
      },
      "source": [
        "## Resources\n",
        "\n",
        "- [Interactive visualize the Chi-Squared test](https://homepage.divms.uiowa.edu/~mbognar/applets/chisq.html)\n",
        "- [Calculation of Chi-Squared test statistic](https://en.wikipedia.org/wiki/Pearson%27s_chi-squared_test)\n",
        "- [Visualization of a confidence interval generated by R code](https://commons.wikimedia.org/wiki/File:Confidence-interval.svg)\n",
        "- [Expected value of a squared standard normal](https://math.stackexchange.com/questions/264061/expected-value-calculation-for-squared-normal-distribution) (it's 1 - which is why the expected value of a Chi-Squared with $n$ degrees of freedom is $n$, as it's the sum of $n$ squared standard normals)"
      ]
    }
  ]
}