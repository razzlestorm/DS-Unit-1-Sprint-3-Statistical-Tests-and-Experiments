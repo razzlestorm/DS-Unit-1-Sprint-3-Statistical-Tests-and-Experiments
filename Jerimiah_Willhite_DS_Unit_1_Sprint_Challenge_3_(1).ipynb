{
  "nbformat": 4,
  "nbformat_minor": 0,
  "metadata": {
    "colab": {
      "name": "Jerimiah Willhite - DS_Unit_1_Sprint_Challenge_3 (1).ipynb",
      "version": "0.3.2",
      "provenance": [],
      "collapsed_sections": [],
      "toc_visible": true,
      "include_colab_link": true
    },
    "kernelspec": {
      "name": "python3",
      "display_name": "Python 3"
    }
  },
  "cells": [
    {
      "cell_type": "markdown",
      "metadata": {
        "id": "view-in-github",
        "colab_type": "text"
      },
      "source": [
        "<a href=\"https://colab.research.google.com/github/razzlestorm/DS-Unit-1-Sprint-3-Statistical-Tests-and-Experiments/blob/master/Jerimiah_Willhite_DS_Unit_1_Sprint_Challenge_3_(1).ipynb\" target=\"_parent\"><img src=\"https://colab.research.google.com/assets/colab-badge.svg\" alt=\"Open In Colab\"/></a>"
      ]
    },
    {
      "cell_type": "markdown",
      "metadata": {
        "id": "NooAiTdnafkz",
        "colab_type": "text"
      },
      "source": [
        "# Data Science Unit 1 Sprint Challenge 4\n",
        "\n",
        "## Exploring Data, Testing Hypotheses\n",
        "\n",
        "In this sprint challenge you will look at a dataset of people being approved or rejected for credit.\n",
        "\n",
        "https://archive.ics.uci.edu/ml/datasets/Credit+Approval\n",
        "\n",
        "Data Set Information: This file concerns credit card applications. All attribute names and values have been changed to meaningless symbols to protect confidentiality of the data. This dataset is interesting because there is a good mix of attributes -- continuous, nominal with small numbers of values, and nominal with larger numbers of values. There are also a few missing values.\n",
        "\n",
        "Attribute Information:\n",
        "- A1: b, a.\n",
        "- A2: continuous.\n",
        "- A3: continuous.\n",
        "- A4: u, y, l, t.\n",
        "- A5: g, p, gg.\n",
        "- A6: c, d, cc, i, j, k, m, r, q, w, x, e, aa, ff.\n",
        "- A7: v, h, bb, j, n, z, dd, ff, o.\n",
        "- A8: continuous.\n",
        "- A9: t, f.\n",
        "- A10: t, f.\n",
        "- A11: continuous.\n",
        "- A12: t, f.\n",
        "- A13: g, p, s.\n",
        "- A14: continuous.\n",
        "- A15: continuous.\n",
        "- A16: +,- (class attribute)\n",
        "\n",
        "Yes, most of that doesn't mean anything. A16 (the class attribute) is the most interesting, as it separates the 307 approved cases from the 383 rejected cases. The remaining variables have been obfuscated for privacy - a challenge you may have to deal with in your data science career.\n",
        "\n",
        "Sprint challenges are evaluated based on satisfactory completion of each part. It is suggested you work through it in order, getting each aspect reasonably working, before trying to deeply explore, iterate, or refine any given step. Once you get to the end, if you want to go back and improve things, go for it!"
      ]
    },
    {
      "cell_type": "markdown",
      "metadata": {
        "id": "5wch6ksCbJtZ",
        "colab_type": "text"
      },
      "source": [
        "## Part 1 - Load and validate the data\n",
        "\n",
        "- Load the data as a `pandas` data frame.\n",
        "- Validate that it has the appropriate number of observations (you can check the raw file, and also read the dataset description from UCI).\n",
        "- UCI says there should be missing data - check, and if necessary change the data so pandas recognizes it as na\n",
        "- Make sure that the loaded features are of the types described above (continuous values should be treated as float), and correct as necessary\n",
        "\n",
        "This is review, but skills that you'll use at the start of any data exploration. Further, you may have to do some investigation to figure out which file to load from - that is part of the puzzle."
      ]
    },
    {
      "cell_type": "code",
      "metadata": {
        "id": "qEGyBSDQIJQl",
        "colab_type": "code",
        "colab": {}
      },
      "source": [
        "import pandas as pd\n",
        "import matplotlib.pyplot as plt\n",
        "import numpy as np\n",
        "import scipy.stats as stats\n",
        "import seaborn as sns\n"
      ],
      "execution_count": 0,
      "outputs": []
    },
    {
      "cell_type": "code",
      "metadata": {
        "id": "Q79xDLckzibS",
        "colab_type": "code",
        "outputId": "7a99ea00-1326-479c-bf8a-9be27d4d344a",
        "colab": {
          "base_uri": "https://localhost:8080/",
          "height": 217
        }
      },
      "source": [
        "# TODO\n",
        "!wget https://archive.ics.uci.edu/ml/machine-learning-databases/credit-screening/crx.data\n"
      ],
      "execution_count": 3,
      "outputs": [
        {
          "output_type": "stream",
          "text": [
            "--2019-08-22 02:26:02--  https://archive.ics.uci.edu/ml/machine-learning-databases/credit-screening/crx.data\n",
            "Resolving archive.ics.uci.edu (archive.ics.uci.edu)... 128.195.10.252\n",
            "Connecting to archive.ics.uci.edu (archive.ics.uci.edu)|128.195.10.252|:443... connected.\n",
            "HTTP request sent, awaiting response... 200 OK\n",
            "Length: 32218 (31K) [application/x-httpd-php]\n",
            "Saving to: ‘crx.data’\n",
            "\n",
            "\rcrx.data              0%[                    ]       0  --.-KB/s               \rcrx.data            100%[===================>]  31.46K  --.-KB/s    in 0.03s   \n",
            "\n",
            "2019-08-22 02:26:02 (1.04 MB/s) - ‘crx.data’ saved [32218/32218]\n",
            "\n"
          ],
          "name": "stdout"
        }
      ]
    },
    {
      "cell_type": "code",
      "metadata": {
        "id": "lMQSaetEH77m",
        "colab_type": "code",
        "outputId": "49f4a1be-98de-46a8-f67c-6d8a02f6bef9",
        "colab": {
          "base_uri": "https://localhost:8080/",
          "height": 847
        }
      },
      "source": [
        "# Read in Data\n",
        "df = pd.read_csv('crx.data', header=None)\n",
        "# We know from df[0].value_counts() that there are question marks instead of NaNs, so we replace them\n",
        "df = df.replace('?', np.NaN)\n",
        "#shape looks correct based on .names file\n",
        "print(df.shape)\n",
        "#NaNs correct based on .names file\n",
        "print(df.isna().sum())\n",
        "df.head(15)"
      ],
      "execution_count": 4,
      "outputs": [
        {
          "output_type": "stream",
          "text": [
            "(690, 16)\n",
            "0     12\n",
            "1     12\n",
            "2      0\n",
            "3      6\n",
            "4      6\n",
            "5      9\n",
            "6      9\n",
            "7      0\n",
            "8      0\n",
            "9      0\n",
            "10     0\n",
            "11     0\n",
            "12     0\n",
            "13    13\n",
            "14     0\n",
            "15     0\n",
            "dtype: int64\n"
          ],
          "name": "stdout"
        },
        {
          "output_type": "execute_result",
          "data": {
            "text/html": [
              "<div>\n",
              "<style scoped>\n",
              "    .dataframe tbody tr th:only-of-type {\n",
              "        vertical-align: middle;\n",
              "    }\n",
              "\n",
              "    .dataframe tbody tr th {\n",
              "        vertical-align: top;\n",
              "    }\n",
              "\n",
              "    .dataframe thead th {\n",
              "        text-align: right;\n",
              "    }\n",
              "</style>\n",
              "<table border=\"1\" class=\"dataframe\">\n",
              "  <thead>\n",
              "    <tr style=\"text-align: right;\">\n",
              "      <th></th>\n",
              "      <th>0</th>\n",
              "      <th>1</th>\n",
              "      <th>2</th>\n",
              "      <th>3</th>\n",
              "      <th>4</th>\n",
              "      <th>5</th>\n",
              "      <th>6</th>\n",
              "      <th>7</th>\n",
              "      <th>8</th>\n",
              "      <th>9</th>\n",
              "      <th>10</th>\n",
              "      <th>11</th>\n",
              "      <th>12</th>\n",
              "      <th>13</th>\n",
              "      <th>14</th>\n",
              "      <th>15</th>\n",
              "    </tr>\n",
              "  </thead>\n",
              "  <tbody>\n",
              "    <tr>\n",
              "      <th>0</th>\n",
              "      <td>b</td>\n",
              "      <td>30.83</td>\n",
              "      <td>0.000</td>\n",
              "      <td>u</td>\n",
              "      <td>g</td>\n",
              "      <td>w</td>\n",
              "      <td>v</td>\n",
              "      <td>1.250</td>\n",
              "      <td>t</td>\n",
              "      <td>t</td>\n",
              "      <td>1</td>\n",
              "      <td>f</td>\n",
              "      <td>g</td>\n",
              "      <td>00202</td>\n",
              "      <td>0</td>\n",
              "      <td>+</td>\n",
              "    </tr>\n",
              "    <tr>\n",
              "      <th>1</th>\n",
              "      <td>a</td>\n",
              "      <td>58.67</td>\n",
              "      <td>4.460</td>\n",
              "      <td>u</td>\n",
              "      <td>g</td>\n",
              "      <td>q</td>\n",
              "      <td>h</td>\n",
              "      <td>3.040</td>\n",
              "      <td>t</td>\n",
              "      <td>t</td>\n",
              "      <td>6</td>\n",
              "      <td>f</td>\n",
              "      <td>g</td>\n",
              "      <td>00043</td>\n",
              "      <td>560</td>\n",
              "      <td>+</td>\n",
              "    </tr>\n",
              "    <tr>\n",
              "      <th>2</th>\n",
              "      <td>a</td>\n",
              "      <td>24.50</td>\n",
              "      <td>0.500</td>\n",
              "      <td>u</td>\n",
              "      <td>g</td>\n",
              "      <td>q</td>\n",
              "      <td>h</td>\n",
              "      <td>1.500</td>\n",
              "      <td>t</td>\n",
              "      <td>f</td>\n",
              "      <td>0</td>\n",
              "      <td>f</td>\n",
              "      <td>g</td>\n",
              "      <td>00280</td>\n",
              "      <td>824</td>\n",
              "      <td>+</td>\n",
              "    </tr>\n",
              "    <tr>\n",
              "      <th>3</th>\n",
              "      <td>b</td>\n",
              "      <td>27.83</td>\n",
              "      <td>1.540</td>\n",
              "      <td>u</td>\n",
              "      <td>g</td>\n",
              "      <td>w</td>\n",
              "      <td>v</td>\n",
              "      <td>3.750</td>\n",
              "      <td>t</td>\n",
              "      <td>t</td>\n",
              "      <td>5</td>\n",
              "      <td>t</td>\n",
              "      <td>g</td>\n",
              "      <td>00100</td>\n",
              "      <td>3</td>\n",
              "      <td>+</td>\n",
              "    </tr>\n",
              "    <tr>\n",
              "      <th>4</th>\n",
              "      <td>b</td>\n",
              "      <td>20.17</td>\n",
              "      <td>5.625</td>\n",
              "      <td>u</td>\n",
              "      <td>g</td>\n",
              "      <td>w</td>\n",
              "      <td>v</td>\n",
              "      <td>1.710</td>\n",
              "      <td>t</td>\n",
              "      <td>f</td>\n",
              "      <td>0</td>\n",
              "      <td>f</td>\n",
              "      <td>s</td>\n",
              "      <td>00120</td>\n",
              "      <td>0</td>\n",
              "      <td>+</td>\n",
              "    </tr>\n",
              "    <tr>\n",
              "      <th>5</th>\n",
              "      <td>b</td>\n",
              "      <td>32.08</td>\n",
              "      <td>4.000</td>\n",
              "      <td>u</td>\n",
              "      <td>g</td>\n",
              "      <td>m</td>\n",
              "      <td>v</td>\n",
              "      <td>2.500</td>\n",
              "      <td>t</td>\n",
              "      <td>f</td>\n",
              "      <td>0</td>\n",
              "      <td>t</td>\n",
              "      <td>g</td>\n",
              "      <td>00360</td>\n",
              "      <td>0</td>\n",
              "      <td>+</td>\n",
              "    </tr>\n",
              "    <tr>\n",
              "      <th>6</th>\n",
              "      <td>b</td>\n",
              "      <td>33.17</td>\n",
              "      <td>1.040</td>\n",
              "      <td>u</td>\n",
              "      <td>g</td>\n",
              "      <td>r</td>\n",
              "      <td>h</td>\n",
              "      <td>6.500</td>\n",
              "      <td>t</td>\n",
              "      <td>f</td>\n",
              "      <td>0</td>\n",
              "      <td>t</td>\n",
              "      <td>g</td>\n",
              "      <td>00164</td>\n",
              "      <td>31285</td>\n",
              "      <td>+</td>\n",
              "    </tr>\n",
              "    <tr>\n",
              "      <th>7</th>\n",
              "      <td>a</td>\n",
              "      <td>22.92</td>\n",
              "      <td>11.585</td>\n",
              "      <td>u</td>\n",
              "      <td>g</td>\n",
              "      <td>cc</td>\n",
              "      <td>v</td>\n",
              "      <td>0.040</td>\n",
              "      <td>t</td>\n",
              "      <td>f</td>\n",
              "      <td>0</td>\n",
              "      <td>f</td>\n",
              "      <td>g</td>\n",
              "      <td>00080</td>\n",
              "      <td>1349</td>\n",
              "      <td>+</td>\n",
              "    </tr>\n",
              "    <tr>\n",
              "      <th>8</th>\n",
              "      <td>b</td>\n",
              "      <td>54.42</td>\n",
              "      <td>0.500</td>\n",
              "      <td>y</td>\n",
              "      <td>p</td>\n",
              "      <td>k</td>\n",
              "      <td>h</td>\n",
              "      <td>3.960</td>\n",
              "      <td>t</td>\n",
              "      <td>f</td>\n",
              "      <td>0</td>\n",
              "      <td>f</td>\n",
              "      <td>g</td>\n",
              "      <td>00180</td>\n",
              "      <td>314</td>\n",
              "      <td>+</td>\n",
              "    </tr>\n",
              "    <tr>\n",
              "      <th>9</th>\n",
              "      <td>b</td>\n",
              "      <td>42.50</td>\n",
              "      <td>4.915</td>\n",
              "      <td>y</td>\n",
              "      <td>p</td>\n",
              "      <td>w</td>\n",
              "      <td>v</td>\n",
              "      <td>3.165</td>\n",
              "      <td>t</td>\n",
              "      <td>f</td>\n",
              "      <td>0</td>\n",
              "      <td>t</td>\n",
              "      <td>g</td>\n",
              "      <td>00052</td>\n",
              "      <td>1442</td>\n",
              "      <td>+</td>\n",
              "    </tr>\n",
              "    <tr>\n",
              "      <th>10</th>\n",
              "      <td>b</td>\n",
              "      <td>22.08</td>\n",
              "      <td>0.830</td>\n",
              "      <td>u</td>\n",
              "      <td>g</td>\n",
              "      <td>c</td>\n",
              "      <td>h</td>\n",
              "      <td>2.165</td>\n",
              "      <td>f</td>\n",
              "      <td>f</td>\n",
              "      <td>0</td>\n",
              "      <td>t</td>\n",
              "      <td>g</td>\n",
              "      <td>00128</td>\n",
              "      <td>0</td>\n",
              "      <td>+</td>\n",
              "    </tr>\n",
              "    <tr>\n",
              "      <th>11</th>\n",
              "      <td>b</td>\n",
              "      <td>29.92</td>\n",
              "      <td>1.835</td>\n",
              "      <td>u</td>\n",
              "      <td>g</td>\n",
              "      <td>c</td>\n",
              "      <td>h</td>\n",
              "      <td>4.335</td>\n",
              "      <td>t</td>\n",
              "      <td>f</td>\n",
              "      <td>0</td>\n",
              "      <td>f</td>\n",
              "      <td>g</td>\n",
              "      <td>00260</td>\n",
              "      <td>200</td>\n",
              "      <td>+</td>\n",
              "    </tr>\n",
              "    <tr>\n",
              "      <th>12</th>\n",
              "      <td>a</td>\n",
              "      <td>38.25</td>\n",
              "      <td>6.000</td>\n",
              "      <td>u</td>\n",
              "      <td>g</td>\n",
              "      <td>k</td>\n",
              "      <td>v</td>\n",
              "      <td>1.000</td>\n",
              "      <td>t</td>\n",
              "      <td>f</td>\n",
              "      <td>0</td>\n",
              "      <td>t</td>\n",
              "      <td>g</td>\n",
              "      <td>00000</td>\n",
              "      <td>0</td>\n",
              "      <td>+</td>\n",
              "    </tr>\n",
              "    <tr>\n",
              "      <th>13</th>\n",
              "      <td>b</td>\n",
              "      <td>48.08</td>\n",
              "      <td>6.040</td>\n",
              "      <td>u</td>\n",
              "      <td>g</td>\n",
              "      <td>k</td>\n",
              "      <td>v</td>\n",
              "      <td>0.040</td>\n",
              "      <td>f</td>\n",
              "      <td>f</td>\n",
              "      <td>0</td>\n",
              "      <td>f</td>\n",
              "      <td>g</td>\n",
              "      <td>00000</td>\n",
              "      <td>2690</td>\n",
              "      <td>+</td>\n",
              "    </tr>\n",
              "    <tr>\n",
              "      <th>14</th>\n",
              "      <td>a</td>\n",
              "      <td>45.83</td>\n",
              "      <td>10.500</td>\n",
              "      <td>u</td>\n",
              "      <td>g</td>\n",
              "      <td>q</td>\n",
              "      <td>v</td>\n",
              "      <td>5.000</td>\n",
              "      <td>t</td>\n",
              "      <td>t</td>\n",
              "      <td>7</td>\n",
              "      <td>t</td>\n",
              "      <td>g</td>\n",
              "      <td>00000</td>\n",
              "      <td>0</td>\n",
              "      <td>+</td>\n",
              "    </tr>\n",
              "  </tbody>\n",
              "</table>\n",
              "</div>"
            ],
            "text/plain": [
              "   0      1       2  3  4   5  6      7  8  9   10 11 12     13     14 15\n",
              "0   b  30.83   0.000  u  g   w  v  1.250  t  t   1  f  g  00202      0  +\n",
              "1   a  58.67   4.460  u  g   q  h  3.040  t  t   6  f  g  00043    560  +\n",
              "2   a  24.50   0.500  u  g   q  h  1.500  t  f   0  f  g  00280    824  +\n",
              "3   b  27.83   1.540  u  g   w  v  3.750  t  t   5  t  g  00100      3  +\n",
              "4   b  20.17   5.625  u  g   w  v  1.710  t  f   0  f  s  00120      0  +\n",
              "5   b  32.08   4.000  u  g   m  v  2.500  t  f   0  t  g  00360      0  +\n",
              "6   b  33.17   1.040  u  g   r  h  6.500  t  f   0  t  g  00164  31285  +\n",
              "7   a  22.92  11.585  u  g  cc  v  0.040  t  f   0  f  g  00080   1349  +\n",
              "8   b  54.42   0.500  y  p   k  h  3.960  t  f   0  f  g  00180    314  +\n",
              "9   b  42.50   4.915  y  p   w  v  3.165  t  f   0  t  g  00052   1442  +\n",
              "10  b  22.08   0.830  u  g   c  h  2.165  f  f   0  t  g  00128      0  +\n",
              "11  b  29.92   1.835  u  g   c  h  4.335  t  f   0  f  g  00260    200  +\n",
              "12  a  38.25   6.000  u  g   k  v  1.000  t  f   0  t  g  00000      0  +\n",
              "13  b  48.08   6.040  u  g   k  v  0.040  f  f   0  f  g  00000   2690  +\n",
              "14  a  45.83  10.500  u  g   q  v  5.000  t  t   7  t  g  00000      0  +"
            ]
          },
          "metadata": {
            "tags": []
          },
          "execution_count": 4
        }
      ]
    },
    {
      "cell_type": "code",
      "metadata": {
        "id": "NDwH0OFeNvT_",
        "colab_type": "code",
        "colab": {}
      },
      "source": [
        "#Need to change numbers in 10, 13, 14 to floats instead of ints\n",
        "#I'm sure there's a more programmatic way, but this will do for now:\n",
        "df[10] = df[10].astype(float)\n",
        "df[13] = df[13].astype(float)\n",
        "df[14] = df[14].astype(float)\n"
      ],
      "execution_count": 0,
      "outputs": []
    },
    {
      "cell_type": "code",
      "metadata": {
        "id": "Mt81-lipO3yU",
        "colab_type": "code",
        "outputId": "d5a4d951-cffd-4fba-c38a-b0f7496df140",
        "colab": {
          "base_uri": "https://localhost:8080/",
          "height": 206
        }
      },
      "source": [
        "#SECTION 1 CHECKLIST DONE\n",
        "df.head()"
      ],
      "execution_count": 6,
      "outputs": [
        {
          "output_type": "execute_result",
          "data": {
            "text/html": [
              "<div>\n",
              "<style scoped>\n",
              "    .dataframe tbody tr th:only-of-type {\n",
              "        vertical-align: middle;\n",
              "    }\n",
              "\n",
              "    .dataframe tbody tr th {\n",
              "        vertical-align: top;\n",
              "    }\n",
              "\n",
              "    .dataframe thead th {\n",
              "        text-align: right;\n",
              "    }\n",
              "</style>\n",
              "<table border=\"1\" class=\"dataframe\">\n",
              "  <thead>\n",
              "    <tr style=\"text-align: right;\">\n",
              "      <th></th>\n",
              "      <th>0</th>\n",
              "      <th>1</th>\n",
              "      <th>2</th>\n",
              "      <th>3</th>\n",
              "      <th>4</th>\n",
              "      <th>5</th>\n",
              "      <th>6</th>\n",
              "      <th>7</th>\n",
              "      <th>8</th>\n",
              "      <th>9</th>\n",
              "      <th>10</th>\n",
              "      <th>11</th>\n",
              "      <th>12</th>\n",
              "      <th>13</th>\n",
              "      <th>14</th>\n",
              "      <th>15</th>\n",
              "    </tr>\n",
              "  </thead>\n",
              "  <tbody>\n",
              "    <tr>\n",
              "      <th>0</th>\n",
              "      <td>b</td>\n",
              "      <td>30.83</td>\n",
              "      <td>0.000</td>\n",
              "      <td>u</td>\n",
              "      <td>g</td>\n",
              "      <td>w</td>\n",
              "      <td>v</td>\n",
              "      <td>1.25</td>\n",
              "      <td>t</td>\n",
              "      <td>t</td>\n",
              "      <td>1.0</td>\n",
              "      <td>f</td>\n",
              "      <td>g</td>\n",
              "      <td>202.0</td>\n",
              "      <td>0.0</td>\n",
              "      <td>+</td>\n",
              "    </tr>\n",
              "    <tr>\n",
              "      <th>1</th>\n",
              "      <td>a</td>\n",
              "      <td>58.67</td>\n",
              "      <td>4.460</td>\n",
              "      <td>u</td>\n",
              "      <td>g</td>\n",
              "      <td>q</td>\n",
              "      <td>h</td>\n",
              "      <td>3.04</td>\n",
              "      <td>t</td>\n",
              "      <td>t</td>\n",
              "      <td>6.0</td>\n",
              "      <td>f</td>\n",
              "      <td>g</td>\n",
              "      <td>43.0</td>\n",
              "      <td>560.0</td>\n",
              "      <td>+</td>\n",
              "    </tr>\n",
              "    <tr>\n",
              "      <th>2</th>\n",
              "      <td>a</td>\n",
              "      <td>24.50</td>\n",
              "      <td>0.500</td>\n",
              "      <td>u</td>\n",
              "      <td>g</td>\n",
              "      <td>q</td>\n",
              "      <td>h</td>\n",
              "      <td>1.50</td>\n",
              "      <td>t</td>\n",
              "      <td>f</td>\n",
              "      <td>0.0</td>\n",
              "      <td>f</td>\n",
              "      <td>g</td>\n",
              "      <td>280.0</td>\n",
              "      <td>824.0</td>\n",
              "      <td>+</td>\n",
              "    </tr>\n",
              "    <tr>\n",
              "      <th>3</th>\n",
              "      <td>b</td>\n",
              "      <td>27.83</td>\n",
              "      <td>1.540</td>\n",
              "      <td>u</td>\n",
              "      <td>g</td>\n",
              "      <td>w</td>\n",
              "      <td>v</td>\n",
              "      <td>3.75</td>\n",
              "      <td>t</td>\n",
              "      <td>t</td>\n",
              "      <td>5.0</td>\n",
              "      <td>t</td>\n",
              "      <td>g</td>\n",
              "      <td>100.0</td>\n",
              "      <td>3.0</td>\n",
              "      <td>+</td>\n",
              "    </tr>\n",
              "    <tr>\n",
              "      <th>4</th>\n",
              "      <td>b</td>\n",
              "      <td>20.17</td>\n",
              "      <td>5.625</td>\n",
              "      <td>u</td>\n",
              "      <td>g</td>\n",
              "      <td>w</td>\n",
              "      <td>v</td>\n",
              "      <td>1.71</td>\n",
              "      <td>t</td>\n",
              "      <td>f</td>\n",
              "      <td>0.0</td>\n",
              "      <td>f</td>\n",
              "      <td>s</td>\n",
              "      <td>120.0</td>\n",
              "      <td>0.0</td>\n",
              "      <td>+</td>\n",
              "    </tr>\n",
              "  </tbody>\n",
              "</table>\n",
              "</div>"
            ],
            "text/plain": [
              "  0      1      2  3  4  5  6     7  8  9    10 11 12     13     14 15\n",
              "0  b  30.83  0.000  u  g  w  v  1.25  t  t  1.0  f  g  202.0    0.0  +\n",
              "1  a  58.67  4.460  u  g  q  h  3.04  t  t  6.0  f  g   43.0  560.0  +\n",
              "2  a  24.50  0.500  u  g  q  h  1.50  t  f  0.0  f  g  280.0  824.0  +\n",
              "3  b  27.83  1.540  u  g  w  v  3.75  t  t  5.0  t  g  100.0    3.0  +\n",
              "4  b  20.17  5.625  u  g  w  v  1.71  t  f  0.0  f  s  120.0    0.0  +"
            ]
          },
          "metadata": {
            "tags": []
          },
          "execution_count": 6
        }
      ]
    },
    {
      "cell_type": "code",
      "metadata": {
        "id": "3-yJ9AX2JKz2",
        "colab_type": "code",
        "colab": {
          "base_uri": "https://localhost:8080/",
          "height": 775
        },
        "outputId": "23ed3385-effa-45bb-e128-6eb2c49c2fb1"
      },
      "source": [
        "pd.plotting.scatter_matrix(df)"
      ],
      "execution_count": 7,
      "outputs": [
        {
          "output_type": "execute_result",
          "data": {
            "text/plain": [
              "array([[<matplotlib.axes._subplots.AxesSubplot object at 0x7f07ac07ad30>,\n",
              "        <matplotlib.axes._subplots.AxesSubplot object at 0x7f07abfe34a8>,\n",
              "        <matplotlib.axes._subplots.AxesSubplot object at 0x7f07ac00c9e8>,\n",
              "        <matplotlib.axes._subplots.AxesSubplot object at 0x7f07abfb2f60>,\n",
              "        <matplotlib.axes._subplots.AxesSubplot object at 0x7f07abf63518>],\n",
              "       [<matplotlib.axes._subplots.AxesSubplot object at 0x7f07abf8aa90>,\n",
              "        <matplotlib.axes._subplots.AxesSubplot object at 0x7f07abf39048>,\n",
              "        <matplotlib.axes._subplots.AxesSubplot object at 0x7f07abede5f8>,\n",
              "        <matplotlib.axes._subplots.AxesSubplot object at 0x7f07abede630>,\n",
              "        <matplotlib.axes._subplots.AxesSubplot object at 0x7f07abeb80f0>],\n",
              "       [<matplotlib.axes._subplots.AxesSubplot object at 0x7f07abe5e668>,\n",
              "        <matplotlib.axes._subplots.AxesSubplot object at 0x7f07abe87be0>,\n",
              "        <matplotlib.axes._subplots.AxesSubplot object at 0x7f07abe37198>,\n",
              "        <matplotlib.axes._subplots.AxesSubplot object at 0x7f07abdde710>,\n",
              "        <matplotlib.axes._subplots.AxesSubplot object at 0x7f07abe06c88>],\n",
              "       [<matplotlib.axes._subplots.AxesSubplot object at 0x7f07abdb7240>,\n",
              "        <matplotlib.axes._subplots.AxesSubplot object at 0x7f07abd5d7b8>,\n",
              "        <matplotlib.axes._subplots.AxesSubplot object at 0x7f07abd85d30>,\n",
              "        <matplotlib.axes._subplots.AxesSubplot object at 0x7f07abd362e8>,\n",
              "        <matplotlib.axes._subplots.AxesSubplot object at 0x7f07abcdd860>],\n",
              "       [<matplotlib.axes._subplots.AxesSubplot object at 0x7f07abd04dd8>,\n",
              "        <matplotlib.axes._subplots.AxesSubplot object at 0x7f07abcb5390>,\n",
              "        <matplotlib.axes._subplots.AxesSubplot object at 0x7f07abc5d908>,\n",
              "        <matplotlib.axes._subplots.AxesSubplot object at 0x7f07abc85e80>,\n",
              "        <matplotlib.axes._subplots.AxesSubplot object at 0x7f07abc35438>]],\n",
              "      dtype=object)"
            ]
          },
          "metadata": {
            "tags": []
          },
          "execution_count": 7
        },
        {
          "output_type": "display_data",
          "data": {
            "image/png": "[encoded data removed]",
            "text/plain": [
              "<Figure size 432x288 with 25 Axes>"
            ]
          },
          "metadata": {
            "tags": []
          }
        }
      ]
    },
    {
      "cell_type": "markdown",
      "metadata": {
        "id": "G7rLytbrO38L",
        "colab_type": "text"
      },
      "source": [
        "## Part 2 - Exploring data, Testing hypotheses\n",
        "\n",
        "The only thing we really know about this data is that A16 is the class label. Besides that, we have 6 continuous (float) features and 9 categorical features.\n",
        "\n",
        "Explore the data: you can use whatever approach (tables, utility functions, visualizations) to get an impression of the distributions and relationships of the variables. In general, your goal is to understand how the features are different when grouped by the two class labels (`+` and `-`).\n",
        "\n",
        "For the 6 continuous features, how are they different when split between the two class labels? Choose two features to run t-tests (again split by class label) - specifically, select one feature that is *extremely* different between the classes, and another feature that is notably less different (though perhaps still \"statistically significantly\" different). You may have to explore more than two features to do this.\n",
        "\n",
        "For the categorical features, explore by creating \"cross tabs\" (aka [contingency tables](https://en.wikipedia.org/wiki/Contingency_table)) between them and the class label, and apply the Chi-squared test to them. [pandas.crosstab](http://pandas.pydata.org/pandas-docs/stable/reference/api/pandas.crosstab.html) can create contingency tables, and [scipy.stats.chi2_contingency](https://docs.scipy.org/doc/scipy/reference/generated/scipy.stats.chi2_contingency.html) can calculate the Chi-squared statistic for them.\n",
        "\n",
        "There are 9 categorical features - as with the t-test, try to find one where the Chi-squared test returns an extreme result (rejecting the null that the data are independent), and one where it is less extreme.\n",
        "\n",
        "**NOTE** - \"less extreme\" just means smaller test statistic/larger p-value. Even the least extreme differences may be strongly statistically significant.\n",
        "\n",
        "Your *main* goal is the hypothesis tests, so don't spend too much time on the exploration/visualization piece. That is just a means to an end - use simple visualizations, such as boxplots or a scatter matrix (both built in to pandas), to get a feel for the overall distribution of the variables.\n",
        "\n",
        "This is challenging, so manage your time and aim for a baseline of at least running two t-tests and two Chi-squared tests before polishing. And don't forget to answer the questions in part 3, even if your results in this part aren't what you want them to be."
      ]
    },
    {
      "cell_type": "code",
      "metadata": {
        "id": "_nqcgc0yzm68",
        "colab_type": "code",
        "outputId": "e5a2fc1a-5f41-4236-f607-436b597b3faf",
        "colab": {
          "base_uri": "https://localhost:8080/",
          "height": 143
        }
      },
      "source": [
        "# TODO\n",
        "everything_else = df[df.columns[0:14]]\n",
        "categorical = df[[3, 4, 5, 6, 8, 9, 11, 12]]\n",
        "continuous = df[[1, 2, 7, 10, 13, 14]]\n",
        "\n",
        "categorical_list = [df[3], df[4], df[5], df[6], df[8], df[9], df[11], df[12]]\n",
        "continuous_list = [df[1], df[2], df[7], df[10], df[13], df[14]]\n",
        "\n",
        "#Get idea of data\n",
        "pd.pivot_table(continuous, index=df[15], aggfunc=np.mean)"
      ],
      "execution_count": 10,
      "outputs": [
        {
          "output_type": "execute_result",
          "data": {
            "text/html": [
              "<div>\n",
              "<style scoped>\n",
              "    .dataframe tbody tr th:only-of-type {\n",
              "        vertical-align: middle;\n",
              "    }\n",
              "\n",
              "    .dataframe tbody tr th {\n",
              "        vertical-align: top;\n",
              "    }\n",
              "\n",
              "    .dataframe thead th {\n",
              "        text-align: right;\n",
              "    }\n",
              "</style>\n",
              "<table border=\"1\" class=\"dataframe\">\n",
              "  <thead>\n",
              "    <tr style=\"text-align: right;\">\n",
              "      <th></th>\n",
              "      <th>2</th>\n",
              "      <th>7</th>\n",
              "      <th>10</th>\n",
              "      <th>13</th>\n",
              "      <th>14</th>\n",
              "    </tr>\n",
              "    <tr>\n",
              "      <th>15</th>\n",
              "      <th></th>\n",
              "      <th></th>\n",
              "      <th></th>\n",
              "      <th></th>\n",
              "      <th></th>\n",
              "    </tr>\n",
              "  </thead>\n",
              "  <tbody>\n",
              "    <tr>\n",
              "      <th>+</th>\n",
              "      <td>5.904951</td>\n",
              "      <td>3.427899</td>\n",
              "      <td>4.605863</td>\n",
              "      <td>164.421927</td>\n",
              "      <td>2038.859935</td>\n",
              "    </tr>\n",
              "    <tr>\n",
              "      <th>-</th>\n",
              "      <td>3.839948</td>\n",
              "      <td>1.257924</td>\n",
              "      <td>0.631854</td>\n",
              "      <td>199.699468</td>\n",
              "      <td>198.605744</td>\n",
              "    </tr>\n",
              "  </tbody>\n",
              "</table>\n",
              "</div>"
            ],
            "text/plain": [
              "          2         7         10          13           14\n",
              "15                                                       \n",
              "+   5.904951  3.427899  4.605863  164.421927  2038.859935\n",
              "-   3.839948  1.257924  0.631854  199.699468   198.605744"
            ]
          },
          "metadata": {
            "tags": []
          },
          "execution_count": 10
        }
      ]
    },
    {
      "cell_type": "code",
      "metadata": {
        "id": "Uz1vgVXsKGcS",
        "colab_type": "code",
        "colab": {
          "base_uri": "https://localhost:8080/",
          "height": 35
        },
        "outputId": "0f4b64be-73dd-45fe-c157-f61926e32a29"
      },
      "source": [
        "#split group based on positive and negative values\n",
        "pos = df[df[15] == '+']\n",
        "neg = df[df[15] == '-']\n",
        "\n",
        "stats.ttest_ind(pos[7], neg[7])"
      ],
      "execution_count": 17,
      "outputs": [
        {
          "output_type": "execute_result",
          "data": {
            "text/plain": [
              "Ttest_indResult(statistic=8.935819983773698, pvalue=3.6710537401601785e-18)"
            ]
          },
          "metadata": {
            "tags": []
          },
          "execution_count": 17
        }
      ]
    },
    {
      "cell_type": "code",
      "metadata": {
        "id": "HW1yCmlEgBrn",
        "colab_type": "code",
        "outputId": "d8587167-3cde-47d5-a4a2-f04cba331cd8",
        "colab": {
          "base_uri": "https://localhost:8080/",
          "height": 53
        }
      },
      "source": [
        "#CONTINUOUS TTEST\n",
        "#features to run df[13] and df[14]\n",
        "print(stats.ttest_ind(pos[13], neg[13], nan_policy='omit'))\n",
        "\n",
        "#feature df[14]\n",
        "print(stats.ttest_ind(pos[14], neg[14]))\n",
        "\n"
      ],
      "execution_count": 19,
      "outputs": [
        {
          "output_type": "stream",
          "text": [
            "Ttest_indResult(statistic=-2.6358251986645476, pvalue=0.008586135473979569)\n",
            "Ttest_indResult(statistic=4.680216020964486, pvalue=3.4520256956287944e-06)\n"
          ],
          "name": "stdout"
        }
      ]
    },
    {
      "cell_type": "code",
      "metadata": {
        "id": "iYkASQKjeM2v",
        "colab_type": "code",
        "outputId": "bdce7144-5c9b-4b89-df5a-dcbee951c172",
        "colab": {
          "base_uri": "https://localhost:8080/",
          "height": 342
        }
      },
      "source": [
        "df[7].groupby(df[15]).plot.line()\n"
      ],
      "execution_count": 20,
      "outputs": [
        {
          "output_type": "execute_result",
          "data": {
            "text/plain": [
              "15\n",
              "+    AxesSubplot(0.125,0.125;0.775x0.755)\n",
              "-    AxesSubplot(0.125,0.125;0.775x0.755)\n",
              "Name: 7, dtype: object"
            ]
          },
          "metadata": {
            "tags": []
          },
          "execution_count": 20
        },
        {
          "output_type": "display_data",
          "data": {
            "image/png": "[encoded data removed]",
            "text/plain": [
              "<Figure size 432x288 with 1 Axes>"
            ]
          },
          "metadata": {
            "tags": []
          }
        }
      ]
    },
    {
      "cell_type": "code",
      "metadata": {
        "id": "KMVDrSRnokCm",
        "colab_type": "code",
        "outputId": "03adb483-06c6-4303-d510-a775606cc66a",
        "colab": {
          "base_uri": "https://localhost:8080/",
          "height": 342
        }
      },
      "source": [
        "df[10].groupby(df[15]).plot.line()\n"
      ],
      "execution_count": 21,
      "outputs": [
        {
          "output_type": "execute_result",
          "data": {
            "text/plain": [
              "15\n",
              "+    AxesSubplot(0.125,0.125;0.775x0.755)\n",
              "-    AxesSubplot(0.125,0.125;0.775x0.755)\n",
              "Name: 10, dtype: object"
            ]
          },
          "metadata": {
            "tags": []
          },
          "execution_count": 21
        },
        {
          "output_type": "display_data",
          "data": {
            "image/png": "[encoded data removed]",
            "text/plain": [
              "<Figure size 432x288 with 1 Axes>"
            ]
          },
          "metadata": {
            "tags": []
          }
        }
      ]
    },
    {
      "cell_type": "code",
      "metadata": {
        "id": "YSwKuq8Iola1",
        "colab_type": "code",
        "outputId": "9554b324-4f37-4a5f-d64c-103bc348e762",
        "colab": {
          "base_uri": "https://localhost:8080/",
          "height": 342
        }
      },
      "source": [
        "df[14].groupby(df[15]).plot.line()"
      ],
      "execution_count": 0,
      "outputs": [
        {
          "output_type": "execute_result",
          "data": {
            "text/plain": [
              "15\n",
              "+    AxesSubplot(0.125,0.125;0.775x0.755)\n",
              "-    AxesSubplot(0.125,0.125;0.775x0.755)\n",
              "Name: 14, dtype: object"
            ]
          },
          "metadata": {
            "tags": []
          },
          "execution_count": 119
        },
        {
          "output_type": "display_data",
          "data": {
            "image/png": "[encoded data removed]",
            "text/plain": [
              "<Figure size 432x288 with 1 Axes>"
            ]
          },
          "metadata": {
            "tags": []
          }
        }
      ]
    },
    {
      "cell_type": "code",
      "metadata": {
        "id": "5KboHbxHaflm",
        "colab_type": "code",
        "outputId": "8a31565a-b9a5-4f2a-fbeb-c901a253adc8",
        "colab": {
          "base_uri": "https://localhost:8080/",
          "height": 143
        }
      },
      "source": [
        "crosstabs = [pd.crosstab(df[15], feature) for feature in categorical_list]\n",
        "crosstabs[1]"
      ],
      "execution_count": 24,
      "outputs": [
        {
          "output_type": "execute_result",
          "data": {
            "text/html": [
              "<div>\n",
              "<style scoped>\n",
              "    .dataframe tbody tr th:only-of-type {\n",
              "        vertical-align: middle;\n",
              "    }\n",
              "\n",
              "    .dataframe tbody tr th {\n",
              "        vertical-align: top;\n",
              "    }\n",
              "\n",
              "    .dataframe thead th {\n",
              "        text-align: right;\n",
              "    }\n",
              "</style>\n",
              "<table border=\"1\" class=\"dataframe\">\n",
              "  <thead>\n",
              "    <tr style=\"text-align: right;\">\n",
              "      <th>4</th>\n",
              "      <th>g</th>\n",
              "      <th>gg</th>\n",
              "      <th>p</th>\n",
              "    </tr>\n",
              "    <tr>\n",
              "      <th>15</th>\n",
              "      <th></th>\n",
              "      <th></th>\n",
              "      <th></th>\n",
              "    </tr>\n",
              "  </thead>\n",
              "  <tbody>\n",
              "    <tr>\n",
              "      <th>+</th>\n",
              "      <td>256</td>\n",
              "      <td>2</td>\n",
              "      <td>45</td>\n",
              "    </tr>\n",
              "    <tr>\n",
              "      <th>-</th>\n",
              "      <td>263</td>\n",
              "      <td>0</td>\n",
              "      <td>118</td>\n",
              "    </tr>\n",
              "  </tbody>\n",
              "</table>\n",
              "</div>"
            ],
            "text/plain": [
              "4     g  gg    p\n",
              "15              \n",
              "+   256   2   45\n",
              "-   263   0  118"
            ]
          },
          "metadata": {
            "tags": []
          },
          "execution_count": 24
        }
      ]
    },
    {
      "cell_type": "code",
      "metadata": {
        "id": "eR-HcaOMPIAR",
        "colab_type": "code",
        "colab": {
          "base_uri": "https://localhost:8080/",
          "height": 1000
        },
        "outputId": "8f53417e-df80-441e-a5d9-b1425324ad06"
      },
      "source": [
        "from scipy.stats import chi2_contingency\n",
        "for crosstab in crosstabs:\n",
        "    print(crosstab)\n",
        "    chi2 = (chi2_contingency(crosstab, correction=False)) #No Yates correction\n",
        "    print(f'Chi-square statistic: {chi2[0]}')\n",
        "    print(f'p-value: {chi2[1]}')\n",
        "    print('\\n\\n')"
      ],
      "execution_count": 25,
      "outputs": [
        {
          "output_type": "stream",
          "text": [
            "3   l    u    y\n",
            "15             \n",
            "+   2  256   45\n",
            "-   0  263  118\n",
            "Chi-square statistic: 26.234074966202144\n",
            "p-value: 2.010680204180363e-06\n",
            "\n",
            "\n",
            "\n",
            "4     g  gg    p\n",
            "15              \n",
            "+   256   2   45\n",
            "-   263   0  118\n",
            "Chi-square statistic: 26.234074966202144\n",
            "p-value: 2.010680204180363e-06\n",
            "\n",
            "\n",
            "\n",
            "5   aa   c  cc   d   e  ff   i  j   k   m   q  r   w   x\n",
            "15                                                      \n",
            "+   19  62  29   7  14   7  14  3  14  16  51  2  33  32\n",
            "-   35  75  12  23  11  46  45  7  37  22  27  1  31   6\n",
            "Chi-square statistic: 98.32520342679135\n",
            "p-value: 3.4999300402715717e-15\n",
            "\n",
            "\n",
            "\n",
            "6   bb  dd  ff   h  j  n  o    v  z\n",
            "15                                 \n",
            "+   25   2   8  87  3  2  1  169  6\n",
            "-   34   4  49  51  5  2  1  230  2\n",
            "Chi-square statistic: 45.034207140240554\n",
            "p-value: 3.625452872372267e-07\n",
            "\n",
            "\n",
            "\n",
            "8     f    t\n",
            "15          \n",
            "+    23  284\n",
            "-   306   77\n",
            "Chi-square statistic: 358.10032647163285\n",
            "p-value: 7.298530125411091e-80\n",
            "\n",
            "\n",
            "\n",
            "9     f    t\n",
            "15          \n",
            "+    98  209\n",
            "-   297   86\n",
            "Chi-square statistic: 144.9276762819937\n",
            "p-value: 2.227269345312281e-33\n",
            "\n",
            "\n",
            "\n",
            "11    f    t\n",
            "15          \n",
            "+   161  146\n",
            "-   213  170\n",
            "Chi-square statistic: 0.6900889348793988\n",
            "p-value: 0.4061341323141693\n",
            "\n",
            "\n",
            "\n",
            "12    g  p   s\n",
            "15            \n",
            "+   287  5  15\n",
            "-   338  3  42\n",
            "Chi-square statistic: 9.191570451545383\n",
            "p-value: 0.010094291370456362\n",
            "\n",
            "\n",
            "\n"
          ],
          "name": "stdout"
        }
      ]
    },
    {
      "cell_type": "code",
      "metadata": {
        "id": "3hfkABX5ZEvA",
        "colab_type": "code",
        "colab": {}
      },
      "source": [
        "#categorical\n",
        "#pd.crosstab(df[15], [df[3], df[4], df[5], df[12]])"
      ],
      "execution_count": 0,
      "outputs": []
    },
    {
      "cell_type": "code",
      "metadata": {
        "id": "5iOC0WHWZd_i",
        "colab_type": "code",
        "colab": {}
      },
      "source": [
        "#true false\n",
        "#pd.crosstab([df[8], df[9], df[11]], df[15])"
      ],
      "execution_count": 0,
      "outputs": []
    },
    {
      "cell_type": "markdown",
      "metadata": {
        "id": "ZM8JckA2bgnp",
        "colab_type": "text"
      },
      "source": [
        "## Part 3 - Analysis and Interpretation\n",
        "\n",
        "Now that you've looked at the data, answer the following questions:\n",
        "\n",
        "- Interpret and explain the two t-tests you ran - what do they tell you about the relationships between the continuous features you selected and the class labels?\n",
        "- Interpret and explain the two Chi-squared tests you ran - what do they tell you about the relationships between the categorical features you selected and the class labels?\n",
        "- What was the most challenging part of this sprint challenge?\n",
        "\n",
        "Answer with text, but feel free to intersperse example code/results or refer to it from earlier."
      ]
    },
    {
      "cell_type": "markdown",
      "metadata": {
        "id": "LIozLDNG2Uhu",
        "colab_type": "text"
      },
      "source": [
        "\n",
        "*  T-tests: -The first test df[7] and df[10] seem like they could be related! The p-value is not under 0.05, but I haven't actually been able to get a p-value under 0.05, and I don't understand why. df[7] and df[14] don't seem to be related at all, and I HAVE NO IDEA WHY I HAVE A P-VALUE HIGHER THAN 1.\n",
        "*   Chi-squared: They tell me that df[9] and df[11] are probably not related, and df[11] isn't super related to the categories by itself.\n",
        "\n",
        "\n",
        "-Everything felt really challenging, I don't feel like I have a good enough grasp on what the numbers in each test ACTUALLY MEAN, and nothing I'm finding is helping.\n"
      ]
    },
    {
      "cell_type": "markdown",
      "metadata": {
        "id": "-BLuA3UpR3UB",
        "colab_type": "text"
      },
      "source": [
        "UPDATES: Going back over this, I can see that I was a bit closer than I originally thought that I had been. I didn't split the t-test groups up properly, and I didn't really know how to interpret the chi-squared numbers. Part of this was not realizing that a p-value of something like 2.blank e-16 is actually a very small number."
      ]
    }
  ]
}